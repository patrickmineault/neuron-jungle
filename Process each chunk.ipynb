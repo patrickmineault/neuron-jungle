{
 "cells": [
  {
   "cell_type": "code",
   "execution_count": 3,
   "metadata": {},
   "outputs": [],
   "source": [
    "%matplotlib inline\n",
    "import collections\n",
    "import dask\n",
    "import gcsfs\n",
    "import h5py\n",
    "import io\n",
    "import matplotlib.pyplot as plt\n",
    "import numba\n",
    "import numpy as np\n",
    "import os\n",
    "import os.path\n",
    "import pickle\n",
    "import requests\n",
    "\n",
    "from dask.distributed import Client\n",
    "from dask_kubernetes import KubeCluster\n",
    "from numba.typed import Dict"
   ]
  },
  {
   "cell_type": "code",
   "execution_count": 13,
   "metadata": {},
   "outputs": [
    {
     "name": "stderr",
     "output_type": "stream",
     "text": [
      "distributed.scheduler - INFO - Scheduler closing...\n",
      "distributed.scheduler - INFO - Scheduler closing all comms\n"
     ]
    }
   ],
   "source": [
    "cluster.close()"
   ]
  },
  {
   "cell_type": "code",
   "execution_count": 117,
   "metadata": {},
   "outputs": [
    {
     "name": "stderr",
     "output_type": "stream",
     "text": [
      "distributed.scheduler - INFO - Clear task state\n",
      "distributed.scheduler - INFO -   Scheduler at:   tcp://10.36.0.122:45021\n",
      "distributed.scheduler - INFO -   dashboard at:                     :8787\n"
     ]
    },
    {
     "data": {
      "application/vnd.jupyter.widget-view+json": {
       "model_id": "51cc2deb64904b2faabad64393347067",
       "version_major": 2,
       "version_minor": 0
      },
      "text/plain": [
       "VBox(children=(HTML(value='<h2>KubeCluster</h2>'), HBox(children=(HTML(value='\\n<div>\\n  <style scoped>\\n    .…"
      ]
     },
     "metadata": {},
     "output_type": "display_data"
    }
   ],
   "source": [
    "cluster = KubeCluster.from_yaml('worker-spec.yml')\n",
    "cluster"
   ]
  },
  {
   "cell_type": "code",
   "execution_count": 118,
   "metadata": {},
   "outputs": [
    {
     "name": "stderr",
     "output_type": "stream",
     "text": [
      "distributed.scheduler - INFO - Receive client connection: Client-8c6b8980-483f-11ea-80a1-6a27fb10bcc3\n",
      "distributed.core - INFO - Starting established connection\n"
     ]
    }
   ],
   "source": [
    "client = Client(cluster)"
   ]
  },
  {
   "cell_type": "markdown",
   "metadata": {},
   "source": [
    "Check that the client is working well."
   ]
  },
  {
   "cell_type": "code",
   "execution_count": 119,
   "metadata": {},
   "outputs": [
    {
     "name": "stderr",
     "output_type": "stream",
     "text": [
      "distributed.scheduler - INFO - Register tcp://10.36.58.2:38713\n",
      "distributed.scheduler - INFO - Starting worker compute stream, tcp://10.36.58.2:38713\n",
      "distributed.core - INFO - Starting established connection\n"
     ]
    },
    {
     "data": {
      "text/plain": [
       "6"
      ]
     },
     "execution_count": 119,
     "metadata": {},
     "output_type": "execute_result"
    },
    {
     "name": "stderr",
     "output_type": "stream",
     "text": [
      "distributed.scheduler - INFO - Retire worker names (0,)\n",
      "distributed.deploy.adaptive - INFO - Retiring workers [0]\n",
      "distributed.scheduler - INFO - Remove worker tcp://10.36.58.2:38713\n",
      "distributed.core - INFO - Removing comms to tcp://10.36.58.2:38713\n",
      "distributed.scheduler - INFO - Lost all workers\n"
     ]
    }
   ],
   "source": [
    "@dask.delayed\n",
    "def the_sum(a, b):\n",
    "    return a + b\n",
    "the_sum(the_sum(1, 2), 3).compute()"
   ]
  },
  {
   "cell_type": "code",
   "execution_count": null,
   "metadata": {},
   "outputs": [],
   "source": [
    "if not os.path.exists('../../.gcs_tokens'):\n",
    "    # Get a token\n",
    "    gcsfs.GCSFileSystem(project='neuron-jungle', token='browser')"
   ]
  },
  {
   "cell_type": "code",
   "execution_count": 4,
   "metadata": {},
   "outputs": [
    {
     "data": {
      "text/plain": [
       "['l4dense/segmentation-volume/x0y0z3.hdf5',\n",
       " 'l4dense/segmentation-volume/test',\n",
       " 'l4dense/segmentation-volume/x3y0z0.hdf5',\n",
       " 'l4dense/segmentation-volume/x5y5z2.hdf5',\n",
       " 'l4dense/segmentation-volume/x4y2z1.hdf5',\n",
       " 'l4dense/segmentation-volume/x5y8z3.hdf5',\n",
       " 'l4dense/segmentation-volume/x1y8z0.hdf5',\n",
       " 'l4dense/segmentation-volume/x3y6z0.hdf5',\n",
       " 'l4dense/segmentation-volume/x2y2z0.hdf5',\n",
       " 'l4dense/segmentation-volume/x5y0z2.hdf5']"
      ]
     },
     "execution_count": 4,
     "metadata": {},
     "output_type": "execute_result"
    }
   ],
   "source": [
    "with open('../.gcs_tokens', 'rb') as f:\n",
    "    credentials = pickle.load(f)\n",
    "credentials = credentials[list(credentials.keys())[0]]\n",
    "fs = gcsfs.GCSFileSystem(project='neuron-jungle', token=credentials)\n",
    "fs.ls('l4dense/segmentation-volume')[:10]"
   ]
  },
  {
   "cell_type": "markdown",
   "metadata": {},
   "source": [
    "# Create a map from segment id to neuron id"
   ]
  },
  {
   "cell_type": "code",
   "execution_count": 17,
   "metadata": {},
   "outputs": [
    {
     "data": {
      "text/plain": [
       "240492120"
      ]
     },
     "execution_count": 17,
     "metadata": {},
     "output_type": "execute_result"
    }
   ],
   "source": [
    "def download(filename):\n",
    "    url = f\"https://l4dense2019.brain.mpg.de/webdav/{filename}\"\n",
    "    result = requests.get(url, verify=False)\n",
    "    result.raise_for_status()\n",
    "    return result.content\n",
    "\n",
    "def upload(filename, data, credentials):\n",
    "    fs = gcsfs.GCSFileSystem(project='neuron-jungle', token=credentials)\n",
    "    with fs.open(f'l4dense/{filename}', 'wb') as f:\n",
    "        num_bytes = f.write(data)\n",
    "    return num_bytes\n",
    "\n",
    "def mirror(filename):\n",
    "    print(f\"Fetching {filename}\")\n",
    "    data = download(filename)\n",
    "    num_bytes = upload(filename, data, credentials)\n",
    "    return num_bytes\n",
    "\n",
    "\n",
    "def locally_cache(filename, credentials):\n",
    "    fs = gcsfs.GCSFileSystem(project='neuron-jungle', token=credentials)\n",
    "    with fs.open(f'l4dense/{filename}', 'rb') as f:\n",
    "        data = f.read()\n",
    "    with open(f'../cache/{filename}', 'wb') as f:\n",
    "        f.write(data)\n",
    "    return len(data)\n",
    "\n",
    "#mirror('axons.hdf5')\n",
    "#locally_cache('dendrites.hdf5', credentials)\n",
    "#locally_cache('axons.hdf5', credentials)\n",
    "locally_cache('segments.hdf5', credentials)"
   ]
  },
  {
   "cell_type": "code",
   "execution_count": 229,
   "metadata": {},
   "outputs": [
    {
     "data": {
      "text/plain": [
       "<KeysViewHDF5 ['agglomerate', 'class', 'neuronId', 'skeleton']>"
      ]
     },
     "execution_count": 229,
     "metadata": {},
     "output_type": "execute_result"
    }
   ],
   "source": [
    "dendrites['dendrites'].keys()"
   ]
  },
  {
   "cell_type": "code",
   "execution_count": 11,
   "metadata": {},
   "outputs": [],
   "source": [
    "def get_neuron_map(dendrites):\n",
    "    # Build a map from agglomerate ID to neuron id\n",
    "    # First for dendrites\n",
    "    agg_ids = list(dendrites['dendrites']['agglomerate'])\n",
    "    neuron_ids = list(dendrites['dendrites']['neuronId'])\n",
    "    agg_to_neuron_id = {k: neuron_ids[int(k) - 1] for k in agg_ids}\n",
    "\n",
    "    neuron_segments = collections.defaultdict(lambda: [])\n",
    "    for agg in list(dendrites['dendrites']['agglomerate'].keys()):\n",
    "        if agg in agg_to_neuron_id and agg_to_neuron_id[agg] > 0:\n",
    "            neuron_id = agg_to_neuron_id[agg]\n",
    "            neuron_segments[neuron_id] += list(dendrites['dendrites']['agglomerate'][agg])\n",
    "\n",
    "    # Add the axons, if available.\n",
    "    dendrites_classes = np.array(dendrites['dendrites']['class'])\n",
    "\n",
    "    neuron_map = {}\n",
    "    for neuron_id, segment_ids in neuron_segments.items():\n",
    "        for segment_id in segment_ids:\n",
    "            neuron_map[segment_id] = neuron_id\n",
    "    return neuron_segments, neuron_map"
   ]
  },
  {
   "cell_type": "code",
   "execution_count": 12,
   "metadata": {},
   "outputs": [],
   "source": []
  },
  {
   "cell_type": "code",
   "execution_count": 4,
   "metadata": {},
   "outputs": [
    {
     "name": "stdout",
     "output_type": "stream",
     "text": [
      "Neuron 1\n",
      "Found axon\n",
      "367\n",
      "Neuron 2\n",
      "Neuron 3\n",
      "Found axon\n",
      "1\n",
      "Neuron 4\n",
      "Found axon\n",
      "57\n",
      "Neuron 5\n",
      "Neuron 6\n",
      "Neuron 7\n",
      "Found axon\n",
      "547\n",
      "Neuron 8\n",
      "Found axon\n",
      "36\n",
      "Neuron 9\n",
      "Neuron 10\n",
      "Found axon\n",
      "74\n",
      "Neuron 11\n",
      "Neuron 12\n",
      "Neuron 13\n",
      "Found axon\n",
      "27\n",
      "Neuron 14\n",
      "Found axon\n",
      "61\n",
      "Neuron 15\n",
      "Neuron 16\n",
      "Neuron 17\n",
      "Neuron 18\n",
      "Neuron 19\n",
      "Found axon\n",
      "72\n",
      "Neuron 20\n",
      "Found axon\n",
      "153\n",
      "Neuron 21\n",
      "Found axon\n",
      "696\n",
      "Neuron 22\n",
      "Found axon\n",
      "1727\n",
      "Neuron 23\n",
      "Neuron 24\n",
      "Neuron 25\n",
      "Found axon\n",
      "797\n",
      "Neuron 26\n",
      "Neuron 27\n",
      "Found axon\n",
      "153\n"
     ]
    },
    {
     "ename": "KeyboardInterrupt",
     "evalue": "",
     "output_type": "error",
     "traceback": [
      "\u001b[0;31m---------------------------------------------------------------------------\u001b[0m",
      "\u001b[0;31mKeyboardInterrupt\u001b[0m                         Traceback (most recent call last)",
      "\u001b[0;32m<ipython-input-4-bc58452eac80>\u001b[0m in \u001b[0;36m<module>\u001b[0;34m\u001b[0m\n\u001b[1;32m     44\u001b[0m     \u001b[0;32mreturn\u001b[0m \u001b[0mneuron_segments\u001b[0m\u001b[0;34m,\u001b[0m \u001b[0mneuron_map_with_axons\u001b[0m\u001b[0;34m\u001b[0m\u001b[0;34m\u001b[0m\u001b[0m\n\u001b[1;32m     45\u001b[0m \u001b[0;34m\u001b[0m\u001b[0m\n\u001b[0;32m---> 46\u001b[0;31m \u001b[0maxon_segments\u001b[0m\u001b[0;34m,\u001b[0m \u001b[0maxon_map\u001b[0m \u001b[0;34m=\u001b[0m \u001b[0mget_neuron_map_with_axons\u001b[0m\u001b[0;34m(\u001b[0m\u001b[0mdendrites\u001b[0m\u001b[0;34m,\u001b[0m \u001b[0maxons\u001b[0m\u001b[0;34m)\u001b[0m\u001b[0;34m\u001b[0m\u001b[0;34m\u001b[0m\u001b[0m\n\u001b[0m",
      "\u001b[0;32m<ipython-input-4-bc58452eac80>\u001b[0m in \u001b[0;36mget_neuron_map_with_axons\u001b[0;34m(dendrites, axons)\u001b[0m\n\u001b[1;32m     31\u001b[0m             \u001b[0mfound_agg\u001b[0m \u001b[0;34m=\u001b[0m \u001b[0;32mFalse\u001b[0m\u001b[0;34m\u001b[0m\u001b[0;34m\u001b[0m\u001b[0m\n\u001b[1;32m     32\u001b[0m             \u001b[0;32mfor\u001b[0m \u001b[0mi\u001b[0m\u001b[0;34m,\u001b[0m \u001b[0magglomerate\u001b[0m \u001b[0;32min\u001b[0m \u001b[0menumerate\u001b[0m\u001b[0;34m(\u001b[0m\u001b[0maxons\u001b[0m\u001b[0;34m[\u001b[0m\u001b[0;34m'axons'\u001b[0m\u001b[0;34m]\u001b[0m\u001b[0;34m[\u001b[0m\u001b[0;34m'skeleton'\u001b[0m\u001b[0;34m]\u001b[0m\u001b[0;34m.\u001b[0m\u001b[0mkeys\u001b[0m\u001b[0;34m(\u001b[0m\u001b[0;34m)\u001b[0m\u001b[0;34m)\u001b[0m\u001b[0;34m:\u001b[0m\u001b[0;34m\u001b[0m\u001b[0;34m\u001b[0m\u001b[0m\n\u001b[0;32m---> 33\u001b[0;31m                 \u001b[0mprobe\u001b[0m \u001b[0;34m=\u001b[0m \u001b[0mnp\u001b[0m\u001b[0;34m.\u001b[0m\u001b[0munique\u001b[0m\u001b[0;34m(\u001b[0m\u001b[0mnp\u001b[0m\u001b[0;34m.\u001b[0m\u001b[0marray\u001b[0m\u001b[0;34m(\u001b[0m\u001b[0maxons\u001b[0m\u001b[0;34m[\u001b[0m\u001b[0;34m'axons'\u001b[0m\u001b[0;34m]\u001b[0m\u001b[0;34m[\u001b[0m\u001b[0;34m'skeleton'\u001b[0m\u001b[0;34m]\u001b[0m\u001b[0;34m[\u001b[0m\u001b[0magglomerate\u001b[0m\u001b[0;34m]\u001b[0m\u001b[0;34m[\u001b[0m\u001b[0;34m'segIds'\u001b[0m\u001b[0;34m]\u001b[0m\u001b[0;34m)\u001b[0m\u001b[0;34m)\u001b[0m\u001b[0;34m\u001b[0m\u001b[0;34m\u001b[0m\u001b[0m\n\u001b[0m\u001b[1;32m     34\u001b[0m                 \u001b[0;32mif\u001b[0m \u001b[0mlen\u001b[0m\u001b[0;34m(\u001b[0m\u001b[0mais_segments\u001b[0m\u001b[0;34m)\u001b[0m \u001b[0;34m+\u001b[0m \u001b[0mlen\u001b[0m\u001b[0;34m(\u001b[0m\u001b[0mprobe\u001b[0m\u001b[0;34m)\u001b[0m \u001b[0;34m>\u001b[0m \u001b[0mlen\u001b[0m\u001b[0;34m(\u001b[0m\u001b[0mnp\u001b[0m\u001b[0;34m.\u001b[0m\u001b[0munique\u001b[0m\u001b[0;34m(\u001b[0m\u001b[0mnp\u001b[0m\u001b[0;34m.\u001b[0m\u001b[0mconcatenate\u001b[0m\u001b[0;34m(\u001b[0m\u001b[0;34m(\u001b[0m\u001b[0mais_segments\u001b[0m\u001b[0;34m,\u001b[0m \u001b[0mprobe\u001b[0m\u001b[0;34m)\u001b[0m\u001b[0;34m)\u001b[0m\u001b[0;34m)\u001b[0m\u001b[0;34m)\u001b[0m\u001b[0;34m:\u001b[0m\u001b[0;34m\u001b[0m\u001b[0;34m\u001b[0m\u001b[0m\n\u001b[1;32m     35\u001b[0m                     \u001b[0mprint\u001b[0m\u001b[0;34m(\u001b[0m\u001b[0;34m\"Found axon\"\u001b[0m\u001b[0;34m)\u001b[0m\u001b[0;34m\u001b[0m\u001b[0;34m\u001b[0m\u001b[0m\n",
      "\u001b[0;32mh5py/_objects.pyx\u001b[0m in \u001b[0;36mh5py._objects.with_phil.wrapper\u001b[0;34m()\u001b[0m\n",
      "\u001b[0;32mh5py/_objects.pyx\u001b[0m in \u001b[0;36mh5py._objects.with_phil.wrapper\u001b[0;34m()\u001b[0m\n",
      "\u001b[0;32m/opt/conda/lib/python3.7/site-packages/h5py/_hl/group.py\u001b[0m in \u001b[0;36m__getitem__\u001b[0;34m(self, name)\u001b[0m\n\u001b[1;32m    268\u001b[0m             \u001b[0;32mreturn\u001b[0m \u001b[0mGroup\u001b[0m\u001b[0;34m(\u001b[0m\u001b[0moid\u001b[0m\u001b[0;34m)\u001b[0m\u001b[0;34m\u001b[0m\u001b[0;34m\u001b[0m\u001b[0m\n\u001b[1;32m    269\u001b[0m         \u001b[0;32melif\u001b[0m \u001b[0motype\u001b[0m \u001b[0;34m==\u001b[0m \u001b[0mh5i\u001b[0m\u001b[0;34m.\u001b[0m\u001b[0mDATASET\u001b[0m\u001b[0;34m:\u001b[0m\u001b[0;34m\u001b[0m\u001b[0;34m\u001b[0m\u001b[0m\n\u001b[0;32m--> 270\u001b[0;31m             \u001b[0;32mreturn\u001b[0m \u001b[0mdataset\u001b[0m\u001b[0;34m.\u001b[0m\u001b[0mDataset\u001b[0m\u001b[0;34m(\u001b[0m\u001b[0moid\u001b[0m\u001b[0;34m)\u001b[0m\u001b[0;34m\u001b[0m\u001b[0;34m\u001b[0m\u001b[0m\n\u001b[0m\u001b[1;32m    271\u001b[0m         \u001b[0;32melif\u001b[0m \u001b[0motype\u001b[0m \u001b[0;34m==\u001b[0m \u001b[0mh5i\u001b[0m\u001b[0;34m.\u001b[0m\u001b[0mDATATYPE\u001b[0m\u001b[0;34m:\u001b[0m\u001b[0;34m\u001b[0m\u001b[0;34m\u001b[0m\u001b[0m\n\u001b[1;32m    272\u001b[0m             \u001b[0;32mreturn\u001b[0m \u001b[0mdatatype\u001b[0m\u001b[0;34m.\u001b[0m\u001b[0mDatatype\u001b[0m\u001b[0;34m(\u001b[0m\u001b[0moid\u001b[0m\u001b[0;34m)\u001b[0m\u001b[0;34m\u001b[0m\u001b[0;34m\u001b[0m\u001b[0m\n",
      "\u001b[0;32mh5py/_objects.pyx\u001b[0m in \u001b[0;36mh5py._objects.with_phil.wrapper\u001b[0;34m()\u001b[0m\n",
      "\u001b[0;32mh5py/_objects.pyx\u001b[0m in \u001b[0;36mh5py._objects.with_phil.wrapper\u001b[0;34m()\u001b[0m\n",
      "\u001b[0;32m/opt/conda/lib/python3.7/site-packages/h5py/_hl/dataset.py\u001b[0m in \u001b[0;36m__init__\u001b[0;34m(self, bind)\u001b[0m\n\u001b[1;32m    404\u001b[0m         \u001b[0mself\u001b[0m\u001b[0;34m.\u001b[0m\u001b[0m_dxpl\u001b[0m \u001b[0;34m=\u001b[0m \u001b[0mh5p\u001b[0m\u001b[0;34m.\u001b[0m\u001b[0mcreate\u001b[0m\u001b[0;34m(\u001b[0m\u001b[0mh5p\u001b[0m\u001b[0;34m.\u001b[0m\u001b[0mDATASET_XFER\u001b[0m\u001b[0;34m)\u001b[0m\u001b[0;34m\u001b[0m\u001b[0;34m\u001b[0m\u001b[0m\n\u001b[1;32m    405\u001b[0m         \u001b[0mself\u001b[0m\u001b[0;34m.\u001b[0m\u001b[0m_filters\u001b[0m \u001b[0;34m=\u001b[0m \u001b[0mfilters\u001b[0m\u001b[0;34m.\u001b[0m\u001b[0mget_filters\u001b[0m\u001b[0;34m(\u001b[0m\u001b[0mself\u001b[0m\u001b[0;34m.\u001b[0m\u001b[0m_dcpl\u001b[0m\u001b[0;34m)\u001b[0m\u001b[0;34m\u001b[0m\u001b[0;34m\u001b[0m\u001b[0m\n\u001b[0;32m--> 406\u001b[0;31m         \u001b[0mself\u001b[0m\u001b[0;34m.\u001b[0m\u001b[0m_local\u001b[0m \u001b[0;34m=\u001b[0m \u001b[0mlocal\u001b[0m\u001b[0;34m(\u001b[0m\u001b[0;34m)\u001b[0m\u001b[0;34m\u001b[0m\u001b[0;34m\u001b[0m\u001b[0m\n\u001b[0m\u001b[1;32m    407\u001b[0m         \u001b[0mself\u001b[0m\u001b[0;34m.\u001b[0m\u001b[0m_local\u001b[0m\u001b[0;34m.\u001b[0m\u001b[0mastype\u001b[0m \u001b[0;34m=\u001b[0m \u001b[0;32mNone\u001b[0m\u001b[0;34m\u001b[0m\u001b[0;34m\u001b[0m\u001b[0m\n\u001b[1;32m    408\u001b[0m \u001b[0;34m\u001b[0m\u001b[0m\n",
      "\u001b[0;31mKeyboardInterrupt\u001b[0m: "
     ]
    }
   ],
   "source": [
    "def get_neuron_map_with_axons(dendrites, axons):\n",
    "    neurons = 0\n",
    "    neurons_with_ais = 0\n",
    "    neurons_with_axons = 0\n",
    "    \n",
    "    agg_ids = list(dendrites['dendrites']['agglomerate'])\n",
    "    neuron_ids = list(dendrites['dendrites']['neuronId'])\n",
    "    agg_to_neuron_id = {k: neuron_ids[int(k) - 1] for k in agg_ids}\n",
    "\n",
    "    neuron_segments = collections.defaultdict(lambda: [])\n",
    "    dendrite_classes = np.array(dendrites['dendrites']['class'])\n",
    "    \n",
    "    unique_neuron_ids = np.unique(neuron_ids)\n",
    "    assert unique_neuron_ids[0] == 0\n",
    "    unique_neuron_ids = unique_neuron_ids[1:]\n",
    "    \n",
    "    for neuron_id in unique_neuron_ids:\n",
    "        print(f\"Neuron {neuron_id}\")\n",
    "        neurons += 1\n",
    "        \n",
    "        # Find the AIS for this \"dendrite\"\n",
    "        ais_agg = [k for k, v in agg_to_neuron_id.items() if v == neuron_id and dendrite_classes[int(k) - 1] == 2]\n",
    "\n",
    "        if ais_agg:\n",
    "            assert len(ais_agg) == 1\n",
    "            neurons_with_ais += 1\n",
    "            ais_segments = np.array(dendrites['dendrites']['skeleton'][ais_agg[0]]['segIds'])\n",
    "            ais_segments = np.unique(ais_segments[ais_segments > 0])\n",
    "\n",
    "            # Find an axon whose segments overlap this AIS.\n",
    "            found_agg = False\n",
    "            for i, agglomerate in enumerate(axons['axons']['skeleton'].keys()):\n",
    "                probe = np.unique(np.array(axons['axons']['skeleton'][agglomerate]['segIds']))\n",
    "                if len(ais_segments) + len(probe) > len(np.unique(np.concatenate((ais_segments, probe)))):\n",
    "                    print(\"Found axon\")\n",
    "                    print(len(list(axons['axons']['agglomerate'][agglomerate])))\n",
    "                    neurons_with_axons += 1\n",
    "                    found_agg = True\n",
    "                    neuron_segments[neuron_id] += list(axons['axons']['agglomerate'][agglomerate])\n",
    "    neuron_map_with_axons = {}\n",
    "    for neuron_id, segment_ids in neuron_segments.items():\n",
    "        for segment_id in segment_ids:\n",
    "            neuron_map_with_axons[segment_id] = neuron_id\n",
    "    return neuron_segments, neuron_map_with_axons\n",
    "\n",
    "axon_segments, axon_map = get_neuron_map_with_axons(dendrites, axons)"
   ]
  },
  {
   "cell_type": "code",
   "execution_count": 6,
   "metadata": {},
   "outputs": [
    {
     "name": "stdout",
     "output_type": "stream",
     "text": [
      "Neuron 1\n",
      "Found matched axon segment 4685 of length 367\n",
      "Neuron 2\n",
      "Neuron 3\n",
      "Found matched axon segment 25677 of length 1\n",
      "Neuron 4\n",
      "Neuron 5\n",
      "Neuron 6\n",
      "Neuron 7\n"
     ]
    }
   ],
   "source": [
    "def get_neuron_map_with_axons_unrestricted(dendrites, axons):\n",
    "    neurons = 0\n",
    "    neurons_with_ais = 0\n",
    "    neurons_with_axons = 0\n",
    "    \n",
    "    agg_ids = list(dendrites['dendrites']['agglomerate'])\n",
    "    neuron_ids = list(dendrites['dendrites']['neuronId'])\n",
    "    agg_to_neuron_id = {k: neuron_ids[int(k) - 1] for k in agg_ids}\n",
    "\n",
    "    neuron_segments = collections.defaultdict(lambda: [])\n",
    "    dendrite_classes = np.array(dendrites['dendrites']['class'])\n",
    "    axon_classes = np.array(axons['axons']['class'])\n",
    "    \n",
    "    unique_neuron_ids = np.unique(neuron_ids)\n",
    "    assert unique_neuron_ids[0] == 0\n",
    "    unique_neuron_ids = unique_neuron_ids[1:]\n",
    "    \n",
    "    for neuron_id in unique_neuron_ids:\n",
    "        print(f\"Neuron {neuron_id}\")\n",
    "        neurons += 1\n",
    "        \n",
    "        # Find the AIS for this \"dendrite\"\n",
    "        ais_agg = [k for k, v in agg_to_neuron_id.items() if v == neuron_id and dendrite_classes[int(k) - 1] == 2 and axon_classes[int(k) - 1] in (1, 3)]\n",
    "\n",
    "        if ais_agg:\n",
    "            #assert len(ais_agg) == 1\n",
    "            neurons_with_ais += 1\n",
    "            \n",
    "            segment_nums = []\n",
    "            for ais in ais_agg:\n",
    "                segment_nums += list(dendrites['dendrites']['skeleton'][ais]['segIds'])\n",
    "\n",
    "            segment_nums = np.array(segment_nums)\n",
    "            ais_segments = set(segment_nums[segment_nums > 0])\n",
    "\n",
    "            # Find an axon whose segments overlap this AIS.\n",
    "            found_agg = False\n",
    "            for i, agglomerate in enumerate(axons['axons']['skeleton'].keys()):\n",
    "                probe = set(np.array(axons['axons']['skeleton'][agglomerate]['segIds']))\n",
    "                the_intersect = ais_segments.intersection(probe)\n",
    "                if the_intersect:\n",
    "                    print(\"Found matched axon segment %s of length %d\" % (agglomerate, len(list(axons['axons']['agglomerate'][agglomerate]))))\n",
    "                    neurons_with_axons += 1\n",
    "                    found_agg = True\n",
    "                    neuron_segments[neuron_id] += list(axons['axons']['agglomerate'][agglomerate])\n",
    "                    \n",
    "                    # To prevent trying to find the same thing over and over, remove the_intersect from ais_segment\n",
    "                    ais_segments -= the_intersect\n",
    "                    \n",
    "        if neuron_id > 6:\n",
    "            break\n",
    "                    \n",
    "    neuron_map_with_axons = {}\n",
    "    for neuron_id, segment_ids in neuron_segments.items():\n",
    "        for segment_id in segment_ids:\n",
    "            neuron_map_with_axons[segment_id] = neuron_id\n",
    "    return neuron_segments, neuron_map_with_axons\n",
    "\n",
    "axon_segments2, axon_map2 = get_neuron_map_with_axons_unrestricted(dendrites, axons)"
   ]
  },
  {
   "cell_type": "code",
   "execution_count": 44,
   "metadata": {},
   "outputs": [
    {
     "name": "stdout",
     "output_type": "stream",
     "text": [
      "724\n",
      "151\n",
      "151\n",
      "367\n"
     ]
    }
   ],
   "source": [
    "a = np.array(axons['axons']['skeleton']['4685']['segIds'])\n",
    "b = np.array(axons['axons']['agglomerate']['4685'])\n",
    "print((a == 0).sum())\n",
    "[len(np.unique(a[a > 0])), len(np.unique(b))]\n",
    "set_a = set(np.unique(a[a > 0]))\n",
    "set_b = set(np.unique(b))\n",
    "print(len(set_a.intersection(set_b)))\n",
    "print(len(set_a))\n",
    "print(len(set_b))"
   ]
  },
  {
   "cell_type": "markdown",
   "metadata": {},
   "source": [
    "The agglomerate description contains more segments than the skeleton. However, the skeleton contains many locations which are not part of segments - due to manual axon tracing. Is this common in dendrites? In axons?"
   ]
  },
  {
   "cell_type": "code",
   "execution_count": 46,
   "metadata": {},
   "outputs": [],
   "source": [
    "data = []\n",
    "for id in axons['axons']['skeleton']:\n",
    "    a = np.array(axons['axons']['skeleton'][id]['segIds'])\n",
    "    zero_ids = (a == 0).sum()\n",
    "    b = np.array(axons['axons']['agglomerate'][id])\n",
    "    set_a = set(np.unique(a[a > 0]))\n",
    "    set_b = set(np.unique(b))\n",
    "    data.append({'id': id, 'skeleton_zero': zero_ids, 'skeleton_seg': len(set_a), 'agg_seg': len(set_b), 'overlap_seg': len(set_a.intersection(set_b))})\n",
    "    \n",
    "df_axons = pd.DataFrame(data)\n",
    "df_axons.head(10)"
   ]
  },
  {
   "cell_type": "code",
   "execution_count": 65,
   "metadata": {},
   "outputs": [
    {
     "name": "stdout",
     "output_type": "stream",
     "text": [
      "0.35021302807864074\n",
      "0.7792207792207793\n",
      "0.4338851592442185\n"
     ]
    }
   ],
   "source": [
    "print((df_axons['skeleton_seg'] == df_axons['agg_seg']).mean())\n",
    "print(1 - (df_axons['skeleton_zero'] == 0).mean())\n",
    "print((df_axons['skeleton_zero']/(df_axons['skeleton_zero'] + df_axons['skeleton_seg'])).mean())"
   ]
  },
  {
   "cell_type": "code",
   "execution_count": 54,
   "metadata": {},
   "outputs": [],
   "source": [
    "data = []\n",
    "for id in dendrites['dendrites']['skeleton']:\n",
    "    a = np.array(dendrites['dendrites']['skeleton'][id]['segIds'])\n",
    "    zero_ids = (a == 0).sum()\n",
    "    b = np.array(dendrites['dendrites']['agglomerate'][id])\n",
    "    set_a = set(np.unique(a[a > 0]))\n",
    "    set_b = set(np.unique(b))\n",
    "    data.append({'id': id, 'skeleton_zero': zero_ids, 'skeleton_seg': len(set_a), 'agg_seg': len(set_b), 'overlap_seg': len(set_a.intersection(set_b))})\n",
    "\n",
    "df_dendrites = pd.DataFrame(data)"
   ]
  },
  {
   "cell_type": "code",
   "execution_count": 63,
   "metadata": {},
   "outputs": [
    {
     "name": "stdout",
     "output_type": "stream",
     "text": [
      "1.0\n",
      "0.4739473684210527\n",
      "0.06732024581167727\n"
     ]
    }
   ],
   "source": [
    "print((df_dendrites['skeleton_seg'] == df_dendrites['agg_seg']).mean())\n",
    "print(1 - (df_dendrites['skeleton_zero'] == 0).mean())\n",
    "print((df_dendrites['skeleton_zero']/(df_dendrites['skeleton_zero'] + df_dendrites['skeleton_seg'])).mean())"
   ]
  },
  {
   "cell_type": "markdown",
   "metadata": {},
   "source": [
    "Whereas most \"dendrites\" are not much changed in this dataset (6% of nodes have no corresponding segment), axons get changed a lot - 43% of have no segment. This explains why reconstructions of \"dendrites\" based on segments works well but with axons it works very poorly."
   ]
  },
  {
   "cell_type": "code",
   "execution_count": null,
   "metadata": {},
   "outputs": [],
   "source": []
  },
  {
   "cell_type": "code",
   "execution_count": 8,
   "metadata": {},
   "outputs": [],
   "source": [
    "segments = h5py.File('../cache/segments.hdf5', 'r')\n",
    "seg_positions = np.array(segments['segments']['position'])"
   ]
  },
  {
   "cell_type": "code",
   "execution_count": null,
   "metadata": {},
   "outputs": [],
   "source": [
    "dend"
   ]
  },
  {
   "cell_type": "code",
   "execution_count": 31,
   "metadata": {},
   "outputs": [
    {
     "data": {
      "text/plain": [
       "(-286.45000000000005, 8919.45, -82.41899999999998, 8906.979000000001)"
      ]
     },
     "execution_count": 31,
     "metadata": {},
     "output_type": "execute_result"
    },
    {
     "data": {
      "image/png": "[encoded data removed]",
      "text/plain": [
       "<Figure size 1440x504 with 2 Axes>"
      ]
     },
     "metadata": {
      "needs_background": "light"
     },
     "output_type": "display_data"
    }
   ],
   "source": [
    "# Plot neuron 1\n",
    "idx = 1\n",
    "plt.figure(figsize=(20, 7))\n",
    "dendrite_centers = seg_positions[:, np.array(dendrite_segments[idx])-1]\n",
    "axon_centers_a = seg_positions[:, np.array(axon_segments2[idx])-1]\n",
    "plt.subplot(121)\n",
    "plt.plot(dendrite_centers[0, :], dendrite_centers[2, :] * 2.49, 'r.')\n",
    "plt.plot(axon_centers_a[0, :], axon_centers_a[2, :] * 2.49, 'bo')\n",
    "#plt.plot(axon_centers_b[0, :], axon_centers_b[2, :] * 2.49, 'ko')\n",
    "plt.xlabel('x')\n",
    "plt.ylabel('z')\n",
    "plt.box('off')\n",
    "plt.axis('equal')\n",
    "plt.subplot(122)\n",
    "plt.plot(dendrite_centers[1, :], dendrite_centers[2, :] * 2.49, 'r.')\n",
    "plt.plot(axon_centers_a[1, :], axon_centers_a[2, :] * 2.49, 'bo')\n",
    "#plt.plot(axon_centers_b[1, :], axon_centers_b[2, :] * 2.49, 'ko')\n",
    "plt.xlabel('y')\n",
    "plt.ylabel('z')\n",
    "plt.box('off')\n",
    "plt.axis('equal')"
   ]
  },
  {
   "cell_type": "markdown",
   "metadata": {},
   "source": [
    "Save it to GCS."
   ]
  },
  {
   "cell_type": "code",
   "execution_count": 113,
   "metadata": {},
   "outputs": [
    {
     "name": "stdout",
     "output_type": "stream",
     "text": [
      "624598\n",
      "9482\n",
      "367\n"
     ]
    }
   ],
   "source": [
    "full_map = {**dendrite_map, **axon_map}\n",
    "print(sum([1 for v in dendrite_map.values() if v == 1]))\n",
    "print(sum([1 for v in axon_map.values() if v == 1]))"
   ]
  },
  {
   "cell_type": "code",
   "execution_count": 107,
   "metadata": {},
   "outputs": [],
   "source": [
    "fs = gcsfs.GCSFileSystem(project='neuron-jungle', token=credentials)\n",
    "with fs.open('l4dense/neuron-map-with-axons.pkl', 'wb') as f:\n",
    "    f.write(pickle.dumps(full_map))"
   ]
  },
  {
   "cell_type": "code",
   "execution_count": 108,
   "metadata": {},
   "outputs": [],
   "source": [
    "fs = gcsfs.GCSFileSystem(project='neuron-jungle', token=credentials)\n",
    "with fs.open('l4dense/neuron-map.pkl', 'rb') as f:\n",
    "    segment_to_neuron = pickle.loads(f.read())\n",
    "\n",
    "with fs.open('l4dense/neuron-map-with-axons.pkl', 'rb') as f:\n",
    "    segment_to_neuron_with_axons = pickle.loads(f.read())"
   ]
  },
  {
   "cell_type": "code",
   "execution_count": 114,
   "metadata": {},
   "outputs": [
    {
     "name": "stdout",
     "output_type": "stream",
     "text": [
      "9482\n",
      "9760\n"
     ]
    }
   ],
   "source": [
    "print(sum([1 for v in segment_to_neuron.values() if v == 1]))\n",
    "print(sum([1 for v in segment_to_neuron_with_axons.values() if v == 1]))"
   ]
  },
  {
   "cell_type": "code",
   "execution_count": 237,
   "metadata": {},
   "outputs": [
    {
     "name": "stdout",
     "output_type": "stream",
     "text": [
      "1142\n",
      "1142\n"
     ]
    }
   ],
   "source": [
    "id = 2\n",
    "print(sum(v == id for v in segment_to_neuron.values()))\n",
    "#len(segment_to_neuron_with_axons)\n",
    "print(sum(v == id for v in segment_to_neuron_with_axons.values()))"
   ]
  },
  {
   "cell_type": "code",
   "execution_count": 120,
   "metadata": {},
   "outputs": [],
   "source": [
    "@numba.jit(nopython=True)\n",
    "def remap(data, the_map):\n",
    "    b = np.zeros_like(data)\n",
    "    c = {}\n",
    "    for i in range(len(data)):\n",
    "        if data[i] in the_map:\n",
    "            b[i] = the_map[data[i]]\n",
    "            c[the_map[data[i]]] = 1\n",
    "    return b, c"
   ]
  },
  {
   "cell_type": "code",
   "execution_count": 130,
   "metadata": {},
   "outputs": [],
   "source": [
    "# To repaint: map dendrite ids to neuron id (default to 0)\n",
    "from scipy.ndimage import morphology\n",
    "\n",
    "@dask.delayed\n",
    "def repaint(filename, credentials): \n",
    "    print(\"Repainting\")\n",
    "    \n",
    "    # Create a typed map for segment_to_neuron\n",
    "    out_name = f'l4dense/neuron-volume-with-axons-unfilled/{filename}'\n",
    "    fs = gcsfs.GCSFileSystem(project='neuron-jungle', token=credentials)\n",
    "    if fs.exists(out_name):\n",
    "        print(\"File already exists\")\n",
    "        return 0\n",
    "    with fs.open('l4dense/neuron-map-with-axons.pkl', 'rb') as f:\n",
    "        segment_to_neuron = pickle.loads(f.read())\n",
    "\n",
    "    the_map_typed = Dict.empty(key_type=numba.int32, value_type=numba.uint8)\n",
    "    for k, v in segment_to_neuron.items():\n",
    "        the_map_typed[k] = v\n",
    "    \n",
    "    neuron_ids = set()\n",
    "    with fs.open(f'l4dense/segmentation-volume/{filename}', 'rb') as f:    \n",
    "        cube = h5py.File(f, 'r')\n",
    "        \n",
    "        a = np.zeros((1024, 1024, 1024), dtype=np.uint8)\n",
    "        \n",
    "        slice_size = 32\n",
    "        nslices = int(1024 / slice_size)\n",
    "        \n",
    "        for j in range(nslices):\n",
    "            subd = np.array(cube['data'][(slice_size*j):(slice_size*(j+1)), :, :])\n",
    "            for i in range(nslices):\n",
    "                r, neuron_id = remap(subd[i, :, :].ravel(), the_map_typed)\n",
    "                a[i + j*slice_size, :, :] = r.astype(np.uint8).reshape((1024, 1024))\n",
    "                neuron_ids = neuron_ids.union(set(neuron_id.keys()))\n",
    "    \n",
    "    neuron_ids = np.array(list(neuron_ids))\n",
    "    \n",
    "    #a = morphology.grey_erosion(morphology.grey_dilation(a, size=5), size=5)\n",
    "    \n",
    "    bio = io.BytesIO()\n",
    "    cube = h5py.File(bio, 'w')\n",
    "    cube.create_dataset('data', a.shape, compression=\"gzip\", data=a)\n",
    "    cube.create_dataset('neuron_ids', neuron_ids.shape, data=neuron_ids)\n",
    "    cube.close()\n",
    "\n",
    "    data = bio.getvalue()\n",
    "    with fs.open(out_name, 'wb') as f:\n",
    "        f.write(data)\n",
    "    return len(data)"
   ]
  },
  {
   "cell_type": "code",
   "execution_count": 131,
   "metadata": {},
   "outputs": [
    {
     "name": "stdout",
     "output_type": "stream",
     "text": [
      "0 0 0\n",
      "0 0 1\n",
      "0 0 2\n",
      "0 0 3\n",
      "0 1 0\n",
      "0 1 1\n",
      "0 1 2\n",
      "0 1 3\n",
      "0 2 0\n",
      "0 2 1\n",
      "0 2 2\n",
      "0 2 3\n",
      "0 3 0\n",
      "0 3 1\n",
      "0 3 2\n",
      "0 3 3\n",
      "0 4 0\n",
      "0 4 1\n",
      "0 4 2\n",
      "0 4 3\n",
      "0 5 0\n",
      "0 5 1\n",
      "0 5 2\n",
      "0 5 3\n",
      "0 6 0\n",
      "0 6 1\n",
      "0 6 2\n",
      "0 6 3\n",
      "0 7 0\n",
      "0 7 1\n",
      "0 7 2\n",
      "0 7 3\n",
      "0 8 0\n",
      "0 8 1\n",
      "0 8 2\n",
      "0 8 3\n",
      "1 0 0\n",
      "1 0 1\n",
      "1 0 2\n",
      "1 0 3\n",
      "1 1 0\n",
      "1 1 1\n",
      "1 1 2\n",
      "1 1 3\n",
      "1 2 0\n",
      "1 2 1\n",
      "1 2 2\n",
      "1 2 3\n",
      "1 3 0\n",
      "1 3 1\n",
      "1 3 2\n",
      "1 3 3\n",
      "1 4 0\n",
      "1 4 1\n",
      "1 4 2\n",
      "1 4 3\n",
      "1 5 0\n",
      "1 5 1\n",
      "1 5 2\n",
      "1 5 3\n",
      "1 6 0\n",
      "1 6 1\n",
      "1 6 2\n",
      "1 6 3\n",
      "1 7 0\n",
      "1 7 1\n",
      "1 7 2\n",
      "1 7 3\n",
      "1 8 0\n",
      "1 8 1\n",
      "1 8 2\n",
      "1 8 3\n",
      "2 0 0\n",
      "2 0 1\n",
      "2 0 2\n",
      "2 0 3\n",
      "2 1 0\n",
      "2 1 1\n",
      "2 1 2\n",
      "2 1 3\n",
      "2 2 0\n",
      "2 2 1\n",
      "2 2 2\n",
      "2 2 3\n",
      "2 3 0\n",
      "2 3 1\n",
      "2 3 2\n",
      "2 3 3\n",
      "2 4 0\n",
      "2 4 1\n",
      "2 4 2\n",
      "2 4 3\n",
      "2 5 0\n",
      "2 5 1\n",
      "2 5 2\n",
      "2 5 3\n",
      "2 6 0\n",
      "2 6 1\n",
      "2 6 2\n",
      "2 6 3\n",
      "2 7 0\n",
      "2 7 1\n",
      "2 7 2\n",
      "2 7 3\n",
      "2 8 0\n",
      "2 8 1\n",
      "2 8 2\n",
      "2 8 3\n",
      "3 0 0\n",
      "3 0 1\n",
      "3 0 2\n",
      "3 0 3\n",
      "3 1 0\n",
      "3 1 1\n",
      "3 1 2\n",
      "3 1 3\n",
      "3 2 0\n",
      "3 2 1\n",
      "3 2 2\n",
      "3 2 3\n",
      "3 3 0\n",
      "3 3 1\n",
      "3 3 2\n",
      "3 3 3\n",
      "3 4 0\n",
      "3 4 1\n",
      "3 4 2\n",
      "3 4 3\n",
      "3 5 0\n",
      "3 5 1\n",
      "3 5 2\n",
      "3 5 3\n",
      "3 6 0\n",
      "3 6 1\n",
      "3 6 2\n",
      "3 6 3\n",
      "3 7 0\n",
      "3 7 1\n",
      "3 7 2\n",
      "3 7 3\n",
      "3 8 0\n",
      "3 8 1\n",
      "3 8 2\n",
      "3 8 3\n",
      "4 0 0\n",
      "4 0 1\n",
      "4 0 2\n",
      "4 0 3\n",
      "4 1 0\n",
      "4 1 1\n",
      "4 1 2\n",
      "4 1 3\n",
      "4 2 0\n",
      "4 2 1\n",
      "4 2 2\n",
      "4 2 3\n",
      "4 3 0\n",
      "4 3 1\n",
      "4 3 2\n",
      "4 3 3\n",
      "4 4 0\n",
      "4 4 1\n",
      "4 4 2\n",
      "4 4 3\n",
      "4 5 0\n",
      "4 5 1\n",
      "4 5 2\n",
      "4 5 3\n",
      "4 6 0\n",
      "4 6 1\n",
      "4 6 2\n",
      "4 6 3\n",
      "4 7 0\n",
      "4 7 1\n",
      "4 7 2\n",
      "4 7 3\n",
      "4 8 0\n",
      "4 8 1\n",
      "4 8 2\n",
      "4 8 3\n",
      "5 0 0\n",
      "5 0 1\n",
      "5 0 2\n",
      "5 0 3\n",
      "5 1 0\n",
      "5 1 1\n",
      "5 1 2\n",
      "5 1 3\n",
      "5 2 0\n",
      "5 2 1\n",
      "5 2 2\n",
      "5 2 3\n",
      "5 3 0\n",
      "5 3 1\n",
      "5 3 2\n",
      "5 3 3\n",
      "5 4 0\n",
      "5 4 1\n",
      "5 4 2\n",
      "5 4 3\n",
      "5 5 0\n",
      "5 5 1\n",
      "5 5 2\n",
      "5 5 3\n",
      "5 6 0\n",
      "5 6 1\n",
      "5 6 2\n",
      "5 6 3\n",
      "5 7 0\n",
      "5 7 1\n",
      "5 7 2\n",
      "5 7 3\n",
      "5 8 0\n",
      "5 8 1\n",
      "5 8 2\n",
      "5 8 3\n"
     ]
    },
    {
     "name": "stderr",
     "output_type": "stream",
     "text": [
      "distributed.scheduler - INFO - Register tcp://10.36.72.2:35501\n",
      "distributed.scheduler - INFO - Starting worker compute stream, tcp://10.36.72.2:35501\n",
      "distributed.core - INFO - Starting established connection\n",
      "distributed.scheduler - INFO - Retire worker names (32, 33, 27, 28)\n",
      "distributed.deploy.adaptive - INFO - Retiring workers [32, 33, 27, 28]\n",
      "distributed.scheduler - INFO - Remove worker tcp://10.36.72.2:35501\n",
      "distributed.core - INFO - Removing comms to tcp://10.36.72.2:35501\n",
      "distributed.scheduler - INFO - Lost all workers\n",
      "distributed.scheduler - INFO - Retire worker names (29,)\n",
      "distributed.deploy.adaptive - INFO - Retiring workers [29]\n",
      "distributed.scheduler - INFO - Retire worker names (30,)\n",
      "distributed.deploy.adaptive - INFO - Retiring workers [30]\n",
      "distributed.scheduler - INFO - Register tcp://10.36.72.4:39077\n",
      "distributed.scheduler - INFO - Starting worker compute stream, tcp://10.36.72.4:39077\n",
      "distributed.core - INFO - Starting established connection\n",
      "distributed.scheduler - INFO - Retire worker names (33,)\n",
      "distributed.deploy.adaptive - INFO - Retiring workers [33]\n",
      "distributed.scheduler - INFO - Retire worker names (34,)\n",
      "distributed.deploy.adaptive - INFO - Retiring workers [34]\n"
     ]
    },
    {
     "data": {
      "text/plain": [
       "4673480"
      ]
     },
     "execution_count": 131,
     "metadata": {},
     "output_type": "execute_result"
    },
    {
     "name": "stderr",
     "output_type": "stream",
     "text": [
      "distributed.scheduler - INFO - Retire worker names (31,)\n",
      "distributed.deploy.adaptive - INFO - Retiring workers [31]\n",
      "distributed.scheduler - INFO - Remove worker tcp://10.36.72.4:39077\n",
      "distributed.core - INFO - Removing comms to tcp://10.36.72.4:39077\n",
      "distributed.scheduler - INFO - Lost all workers\n"
     ]
    }
   ],
   "source": [
    "# x5y8z3 are the largest ids\n",
    "bytes_total = 0\n",
    "for i in range(6):\n",
    "    for j in range(9):\n",
    "        for k in range(4):\n",
    "            print(i, j, k)\n",
    "            bytes_total += repaint(f\"x{i}y{j}z{k}.hdf5\", credentials)\n",
    "bytes_total.compute()"
   ]
  },
  {
   "cell_type": "code",
   "execution_count": 136,
   "metadata": {},
   "outputs": [],
   "source": [
    "# x5y8z3 are the largest ids\n",
    "# To repaint: map dendrite ids to neuron id (default to 0)\n",
    "from scipy.ndimage import morphology\n",
    "\n",
    "@dask.delayed\n",
    "def infill(filename, credentials): \n",
    "    print(\"Infill between segments using morphological operations\")\n",
    "    out_name = f'l4dense/neuron-volume-with-axons-filled/{filename}'\n",
    "    fs = gcsfs.GCSFileSystem(project='neuron-jungle', token=credentials)\n",
    "    if fs.exists(out_name):\n",
    "        print(\"Out file already exists\")\n",
    "        return 0\n",
    "    \n",
    "    with fs.open(f'l4dense/neuron-volume-with-axons-unfilled/{filename}', 'rb') as f:\n",
    "        cube = h5py.File(f, 'r')\n",
    "        data = np.array(cube['data'])\n",
    "        neuron_ids = np.array(cube['neuron_ids'])\n",
    "    \n",
    "    data = morphology.grey_dilation(data, size=5)\n",
    "    data = morphology.grey_erosion(data, size=5)\n",
    "    \n",
    "    bio = io.BytesIO()\n",
    "    cube = h5py.File(bio, 'w')\n",
    "    cube.create_dataset('data', data.shape, compression=\"gzip\", data=data)\n",
    "    cube.create_dataset('neuron_ids', neuron_ids.shape, data=neuron_ids)\n",
    "    cube.close()\n",
    "\n",
    "    data = bio.getvalue()\n",
    "    with fs.open(out_name, 'wb') as f:\n",
    "        f.write(data)\n",
    "    return len(data)"
   ]
  },
  {
   "cell_type": "code",
   "execution_count": 137,
   "metadata": {},
   "outputs": [
    {
     "name": "stdout",
     "output_type": "stream",
     "text": [
      "0 0 0\n",
      "0 0 1\n",
      "0 0 2\n",
      "0 0 3\n",
      "0 1 0\n",
      "0 1 1\n",
      "0 1 2\n",
      "0 1 3\n",
      "0 2 0\n",
      "0 2 1\n",
      "0 2 2\n",
      "0 2 3\n",
      "0 3 0\n",
      "0 3 1\n",
      "0 3 2\n",
      "0 3 3\n",
      "0 4 0\n",
      "0 4 1\n",
      "0 4 2\n",
      "0 4 3\n",
      "0 5 0\n",
      "0 5 1\n",
      "0 5 2\n",
      "0 5 3\n",
      "0 6 0\n",
      "0 6 1\n",
      "0 6 2\n",
      "0 6 3\n",
      "0 7 0\n",
      "0 7 1\n",
      "0 7 2\n",
      "0 7 3\n",
      "0 8 0\n",
      "0 8 1\n",
      "0 8 2\n",
      "0 8 3\n",
      "1 0 0\n",
      "1 0 1\n",
      "1 0 2\n",
      "1 0 3\n",
      "1 1 0\n",
      "1 1 1\n",
      "1 1 2\n",
      "1 1 3\n",
      "1 2 0\n",
      "1 2 1\n",
      "1 2 2\n",
      "1 2 3\n",
      "1 3 0\n",
      "1 3 1\n",
      "1 3 2\n",
      "1 3 3\n",
      "1 4 0\n",
      "1 4 1\n",
      "1 4 2\n",
      "1 4 3\n",
      "1 5 0\n",
      "1 5 1\n",
      "1 5 2\n",
      "1 5 3\n",
      "1 6 0\n",
      "1 6 1\n",
      "1 6 2\n",
      "1 6 3\n",
      "1 7 0\n",
      "1 7 1\n",
      "1 7 2\n",
      "1 7 3\n",
      "1 8 0\n",
      "1 8 1\n",
      "1 8 2\n",
      "1 8 3\n",
      "2 0 0\n",
      "2 0 1\n",
      "2 0 2\n",
      "2 0 3\n",
      "2 1 0\n",
      "2 1 1\n",
      "2 1 2\n",
      "2 1 3\n",
      "2 2 0\n",
      "2 2 1\n",
      "2 2 2\n",
      "2 2 3\n",
      "2 3 0\n",
      "2 3 1\n",
      "2 3 2\n",
      "2 3 3\n",
      "2 4 0\n",
      "2 4 1\n",
      "2 4 2\n",
      "2 4 3\n",
      "2 5 0\n",
      "2 5 1\n",
      "2 5 2\n",
      "2 5 3\n",
      "2 6 0\n",
      "2 6 1\n",
      "2 6 2\n",
      "2 6 3\n",
      "2 7 0\n",
      "2 7 1\n",
      "2 7 2\n",
      "2 7 3\n",
      "2 8 0\n",
      "2 8 1\n",
      "2 8 2\n",
      "2 8 3\n",
      "3 0 0\n",
      "3 0 1\n",
      "3 0 2\n",
      "3 0 3\n",
      "3 1 0\n",
      "3 1 1\n",
      "3 1 2\n",
      "3 1 3\n",
      "3 2 0\n",
      "3 2 1\n",
      "3 2 2\n",
      "3 2 3\n",
      "3 3 0\n",
      "3 3 1\n",
      "3 3 2\n",
      "3 3 3\n",
      "3 4 0\n",
      "3 4 1\n",
      "3 4 2\n",
      "3 4 3\n",
      "3 5 0\n",
      "3 5 1\n",
      "3 5 2\n",
      "3 5 3\n",
      "3 6 0\n",
      "3 6 1\n",
      "3 6 2\n",
      "3 6 3\n",
      "3 7 0\n",
      "3 7 1\n",
      "3 7 2\n",
      "3 7 3\n",
      "3 8 0\n",
      "3 8 1\n",
      "3 8 2\n",
      "3 8 3\n",
      "4 0 0\n",
      "4 0 1\n",
      "4 0 2\n",
      "4 0 3\n",
      "4 1 0\n",
      "4 1 1\n",
      "4 1 2\n",
      "4 1 3\n",
      "4 2 0\n",
      "4 2 1\n",
      "4 2 2\n",
      "4 2 3\n",
      "4 3 0\n",
      "4 3 1\n",
      "4 3 2\n",
      "4 3 3\n",
      "4 4 0\n",
      "4 4 1\n",
      "4 4 2\n",
      "4 4 3\n",
      "4 5 0\n",
      "4 5 1\n",
      "4 5 2\n",
      "4 5 3\n",
      "4 6 0\n",
      "4 6 1\n",
      "4 6 2\n",
      "4 6 3\n",
      "4 7 0\n",
      "4 7 1\n",
      "4 7 2\n",
      "4 7 3\n",
      "4 8 0\n",
      "4 8 1\n",
      "4 8 2\n",
      "4 8 3\n",
      "5 0 0\n",
      "5 0 1\n",
      "5 0 2\n",
      "5 0 3\n",
      "5 1 0\n",
      "5 1 1\n",
      "5 1 2\n",
      "5 1 3\n",
      "5 2 0\n",
      "5 2 1\n",
      "5 2 2\n",
      "5 2 3\n",
      "5 3 0\n",
      "5 3 1\n",
      "5 3 2\n",
      "5 3 3\n",
      "5 4 0\n",
      "5 4 1\n",
      "5 4 2\n",
      "5 4 3\n",
      "5 5 0\n",
      "5 5 1\n",
      "5 5 2\n",
      "5 5 3\n",
      "5 6 0\n",
      "5 6 1\n",
      "5 6 2\n",
      "5 6 3\n",
      "5 7 0\n",
      "5 7 1\n",
      "5 7 2\n",
      "5 7 3\n",
      "5 8 0\n",
      "5 8 1\n",
      "5 8 2\n",
      "5 8 3\n"
     ]
    },
    {
     "name": "stderr",
     "output_type": "stream",
     "text": [
      "distributed.scheduler - INFO - Register tcp://10.36.76.4:34629\n",
      "distributed.scheduler - INFO - Starting worker compute stream, tcp://10.36.76.4:34629\n",
      "distributed.core - INFO - Starting established connection\n",
      "distributed.scheduler - INFO - Retire worker names (42,)\n",
      "distributed.deploy.adaptive - INFO - Retiring workers [42]\n",
      "distributed.scheduler - INFO - Remove worker tcp://10.36.76.4:34629\n",
      "distributed.core - INFO - Removing comms to tcp://10.36.76.4:34629\n",
      "distributed.scheduler - INFO - Lost all workers\n",
      "distributed.scheduler - INFO - Retire worker names (43, 44)\n",
      "distributed.deploy.adaptive - INFO - Retiring workers [43, 44]\n",
      "distributed.scheduler - INFO - Register tcp://10.36.75.4:45651\n",
      "distributed.scheduler - INFO - Starting worker compute stream, tcp://10.36.75.4:45651\n",
      "distributed.core - INFO - Starting established connection\n",
      "distributed.scheduler - INFO - Retire worker names (48,)\n",
      "distributed.deploy.adaptive - INFO - Retiring workers [48]\n",
      "distributed.scheduler - INFO - Retire worker names (45,)\n",
      "distributed.deploy.adaptive - INFO - Retiring workers [45]\n",
      "distributed.scheduler - INFO - Remove worker tcp://10.36.75.4:45651\n",
      "distributed.core - INFO - Removing comms to tcp://10.36.75.4:45651\n",
      "distributed.scheduler - INFO - Lost all workers\n",
      "distributed.scheduler - INFO - Retire worker names (46,)\n",
      "distributed.deploy.adaptive - INFO - Retiring workers [46]\n",
      "distributed.scheduler - INFO - Register tcp://10.36.78.3:37559\n",
      "distributed.scheduler - INFO - Starting worker compute stream, tcp://10.36.78.3:37559\n",
      "distributed.core - INFO - Starting established connection\n",
      "distributed.scheduler - INFO - Retire worker names (48,)\n",
      "distributed.deploy.adaptive - INFO - Retiring workers [48]\n",
      "distributed.scheduler - INFO - Retire worker names (49,)\n",
      "distributed.deploy.adaptive - INFO - Retiring workers [49]\n",
      "distributed.scheduler - INFO - Register tcp://10.36.73.5:33121\n",
      "distributed.scheduler - INFO - Starting worker compute stream, tcp://10.36.73.5:33121\n",
      "distributed.core - INFO - Starting established connection\n",
      "distributed.scheduler - INFO - Register tcp://10.36.75.5:33557\n",
      "distributed.scheduler - INFO - Starting worker compute stream, tcp://10.36.75.5:33557\n",
      "distributed.core - INFO - Starting established connection\n",
      "distributed.scheduler - INFO - Register tcp://10.36.74.5:40951\n",
      "distributed.scheduler - INFO - Starting worker compute stream, tcp://10.36.74.5:40951\n",
      "distributed.core - INFO - Starting established connection\n",
      "distributed.scheduler - INFO - Register tcp://10.36.72.8:34829\n",
      "distributed.scheduler - INFO - Starting worker compute stream, tcp://10.36.72.8:34829\n",
      "distributed.core - INFO - Starting established connection\n",
      "distributed.scheduler - INFO - Register tcp://10.36.76.6:32915\n",
      "distributed.scheduler - INFO - Starting worker compute stream, tcp://10.36.76.6:32915\n",
      "distributed.core - INFO - Starting established connection\n",
      "distributed.scheduler - INFO - Retire worker names (47,)\n",
      "distributed.deploy.adaptive - INFO - Retiring workers [47]\n",
      "distributed.scheduler - INFO - Remove worker tcp://10.36.78.3:37559\n",
      "distributed.core - INFO - Removing comms to tcp://10.36.78.3:37559\n",
      "distributed.scheduler - INFO - Register tcp://10.36.78.4:46729\n",
      "distributed.scheduler - INFO - Starting worker compute stream, tcp://10.36.78.4:46729\n",
      "distributed.core - INFO - Starting established connection\n",
      "distributed.scheduler - INFO - Retire worker names (49,)\n",
      "distributed.deploy.adaptive - INFO - Retiring workers [49]\n",
      "distributed.scheduler - INFO - Remove worker tcp://10.36.72.8:34829\n",
      "distributed.core - INFO - Removing comms to tcp://10.36.72.8:34829\n"
     ]
    },
    {
     "ename": "KilledWorker",
     "evalue": "('infill-59b82cc4-8ddc-4c51-ab4c-2339faea3222', <Worker 'tcp://10.36.72.8:34829', memory: 0, processing: 24>)",
     "output_type": "error",
     "traceback": [
      "\u001b[0;31m---------------------------------------------------------------------------\u001b[0m",
      "\u001b[0;31mKilledWorker\u001b[0m                              Traceback (most recent call last)",
      "\u001b[0;32m<ipython-input-137-882f840bf998>\u001b[0m in \u001b[0;36m<module>\u001b[0;34m\u001b[0m\n\u001b[1;32m     13\u001b[0m             \u001b[0;31m#    neuron_ids = np.array(cube['neuron_ids'])\u001b[0m\u001b[0;34m\u001b[0m\u001b[0;34m\u001b[0m\u001b[0;34m\u001b[0m\u001b[0m\n\u001b[1;32m     14\u001b[0m \u001b[0;34m\u001b[0m\u001b[0m\n\u001b[0;32m---> 15\u001b[0;31m \u001b[0mbytes_total\u001b[0m\u001b[0;34m.\u001b[0m\u001b[0mcompute\u001b[0m\u001b[0;34m(\u001b[0m\u001b[0;34m)\u001b[0m\u001b[0;34m\u001b[0m\u001b[0;34m\u001b[0m\u001b[0m\n\u001b[0m",
      "\u001b[0;32m/opt/conda/lib/python3.7/site-packages/dask/base.py\u001b[0m in \u001b[0;36mcompute\u001b[0;34m(self, **kwargs)\u001b[0m\n\u001b[1;32m    163\u001b[0m         \u001b[0mdask\u001b[0m\u001b[0;34m.\u001b[0m\u001b[0mbase\u001b[0m\u001b[0;34m.\u001b[0m\u001b[0mcompute\u001b[0m\u001b[0;34m\u001b[0m\u001b[0;34m\u001b[0m\u001b[0m\n\u001b[1;32m    164\u001b[0m         \"\"\"\n\u001b[0;32m--> 165\u001b[0;31m         \u001b[0;34m(\u001b[0m\u001b[0mresult\u001b[0m\u001b[0;34m,\u001b[0m\u001b[0;34m)\u001b[0m \u001b[0;34m=\u001b[0m \u001b[0mcompute\u001b[0m\u001b[0;34m(\u001b[0m\u001b[0mself\u001b[0m\u001b[0;34m,\u001b[0m \u001b[0mtraverse\u001b[0m\u001b[0;34m=\u001b[0m\u001b[0;32mFalse\u001b[0m\u001b[0;34m,\u001b[0m \u001b[0;34m**\u001b[0m\u001b[0mkwargs\u001b[0m\u001b[0;34m)\u001b[0m\u001b[0;34m\u001b[0m\u001b[0;34m\u001b[0m\u001b[0m\n\u001b[0m\u001b[1;32m    166\u001b[0m         \u001b[0;32mreturn\u001b[0m \u001b[0mresult\u001b[0m\u001b[0;34m\u001b[0m\u001b[0;34m\u001b[0m\u001b[0m\n\u001b[1;32m    167\u001b[0m \u001b[0;34m\u001b[0m\u001b[0m\n",
      "\u001b[0;32m/opt/conda/lib/python3.7/site-packages/dask/base.py\u001b[0m in \u001b[0;36mcompute\u001b[0;34m(*args, **kwargs)\u001b[0m\n\u001b[1;32m    434\u001b[0m     \u001b[0mkeys\u001b[0m \u001b[0;34m=\u001b[0m \u001b[0;34m[\u001b[0m\u001b[0mx\u001b[0m\u001b[0;34m.\u001b[0m\u001b[0m__dask_keys__\u001b[0m\u001b[0;34m(\u001b[0m\u001b[0;34m)\u001b[0m \u001b[0;32mfor\u001b[0m \u001b[0mx\u001b[0m \u001b[0;32min\u001b[0m \u001b[0mcollections\u001b[0m\u001b[0;34m]\u001b[0m\u001b[0;34m\u001b[0m\u001b[0;34m\u001b[0m\u001b[0m\n\u001b[1;32m    435\u001b[0m     \u001b[0mpostcomputes\u001b[0m \u001b[0;34m=\u001b[0m \u001b[0;34m[\u001b[0m\u001b[0mx\u001b[0m\u001b[0;34m.\u001b[0m\u001b[0m__dask_postcompute__\u001b[0m\u001b[0;34m(\u001b[0m\u001b[0;34m)\u001b[0m \u001b[0;32mfor\u001b[0m \u001b[0mx\u001b[0m \u001b[0;32min\u001b[0m \u001b[0mcollections\u001b[0m\u001b[0;34m]\u001b[0m\u001b[0;34m\u001b[0m\u001b[0;34m\u001b[0m\u001b[0m\n\u001b[0;32m--> 436\u001b[0;31m     \u001b[0mresults\u001b[0m \u001b[0;34m=\u001b[0m \u001b[0mschedule\u001b[0m\u001b[0;34m(\u001b[0m\u001b[0mdsk\u001b[0m\u001b[0;34m,\u001b[0m \u001b[0mkeys\u001b[0m\u001b[0;34m,\u001b[0m \u001b[0;34m**\u001b[0m\u001b[0mkwargs\u001b[0m\u001b[0;34m)\u001b[0m\u001b[0;34m\u001b[0m\u001b[0;34m\u001b[0m\u001b[0m\n\u001b[0m\u001b[1;32m    437\u001b[0m     \u001b[0;32mreturn\u001b[0m \u001b[0mrepack\u001b[0m\u001b[0;34m(\u001b[0m\u001b[0;34m[\u001b[0m\u001b[0mf\u001b[0m\u001b[0;34m(\u001b[0m\u001b[0mr\u001b[0m\u001b[0;34m,\u001b[0m \u001b[0;34m*\u001b[0m\u001b[0ma\u001b[0m\u001b[0;34m)\u001b[0m \u001b[0;32mfor\u001b[0m \u001b[0mr\u001b[0m\u001b[0;34m,\u001b[0m \u001b[0;34m(\u001b[0m\u001b[0mf\u001b[0m\u001b[0;34m,\u001b[0m \u001b[0ma\u001b[0m\u001b[0;34m)\u001b[0m \u001b[0;32min\u001b[0m \u001b[0mzip\u001b[0m\u001b[0;34m(\u001b[0m\u001b[0mresults\u001b[0m\u001b[0;34m,\u001b[0m \u001b[0mpostcomputes\u001b[0m\u001b[0;34m)\u001b[0m\u001b[0;34m]\u001b[0m\u001b[0;34m)\u001b[0m\u001b[0;34m\u001b[0m\u001b[0;34m\u001b[0m\u001b[0m\n\u001b[1;32m    438\u001b[0m \u001b[0;34m\u001b[0m\u001b[0m\n",
      "\u001b[0;32m/opt/conda/lib/python3.7/site-packages/distributed/client.py\u001b[0m in \u001b[0;36mget\u001b[0;34m(self, dsk, keys, restrictions, loose_restrictions, resources, sync, asynchronous, direct, retries, priority, fifo_timeout, actors, **kwargs)\u001b[0m\n\u001b[1;32m   2571\u001b[0m                     \u001b[0mshould_rejoin\u001b[0m \u001b[0;34m=\u001b[0m \u001b[0;32mFalse\u001b[0m\u001b[0;34m\u001b[0m\u001b[0;34m\u001b[0m\u001b[0m\n\u001b[1;32m   2572\u001b[0m             \u001b[0;32mtry\u001b[0m\u001b[0;34m:\u001b[0m\u001b[0;34m\u001b[0m\u001b[0;34m\u001b[0m\u001b[0m\n\u001b[0;32m-> 2573\u001b[0;31m                 \u001b[0mresults\u001b[0m \u001b[0;34m=\u001b[0m \u001b[0mself\u001b[0m\u001b[0;34m.\u001b[0m\u001b[0mgather\u001b[0m\u001b[0;34m(\u001b[0m\u001b[0mpacked\u001b[0m\u001b[0;34m,\u001b[0m \u001b[0masynchronous\u001b[0m\u001b[0;34m=\u001b[0m\u001b[0masynchronous\u001b[0m\u001b[0;34m,\u001b[0m \u001b[0mdirect\u001b[0m\u001b[0;34m=\u001b[0m\u001b[0mdirect\u001b[0m\u001b[0;34m)\u001b[0m\u001b[0;34m\u001b[0m\u001b[0;34m\u001b[0m\u001b[0m\n\u001b[0m\u001b[1;32m   2574\u001b[0m             \u001b[0;32mfinally\u001b[0m\u001b[0;34m:\u001b[0m\u001b[0;34m\u001b[0m\u001b[0;34m\u001b[0m\u001b[0m\n\u001b[1;32m   2575\u001b[0m                 \u001b[0;32mfor\u001b[0m \u001b[0mf\u001b[0m \u001b[0;32min\u001b[0m \u001b[0mfutures\u001b[0m\u001b[0;34m.\u001b[0m\u001b[0mvalues\u001b[0m\u001b[0;34m(\u001b[0m\u001b[0;34m)\u001b[0m\u001b[0;34m:\u001b[0m\u001b[0;34m\u001b[0m\u001b[0;34m\u001b[0m\u001b[0m\n",
      "\u001b[0;32m/opt/conda/lib/python3.7/site-packages/distributed/client.py\u001b[0m in \u001b[0;36mgather\u001b[0;34m(self, futures, errors, direct, asynchronous)\u001b[0m\n\u001b[1;32m   1871\u001b[0m                 \u001b[0mdirect\u001b[0m\u001b[0;34m=\u001b[0m\u001b[0mdirect\u001b[0m\u001b[0;34m,\u001b[0m\u001b[0;34m\u001b[0m\u001b[0;34m\u001b[0m\u001b[0m\n\u001b[1;32m   1872\u001b[0m                 \u001b[0mlocal_worker\u001b[0m\u001b[0;34m=\u001b[0m\u001b[0mlocal_worker\u001b[0m\u001b[0;34m,\u001b[0m\u001b[0;34m\u001b[0m\u001b[0;34m\u001b[0m\u001b[0m\n\u001b[0;32m-> 1873\u001b[0;31m                 \u001b[0masynchronous\u001b[0m\u001b[0;34m=\u001b[0m\u001b[0masynchronous\u001b[0m\u001b[0;34m,\u001b[0m\u001b[0;34m\u001b[0m\u001b[0;34m\u001b[0m\u001b[0m\n\u001b[0m\u001b[1;32m   1874\u001b[0m             )\n\u001b[1;32m   1875\u001b[0m \u001b[0;34m\u001b[0m\u001b[0m\n",
      "\u001b[0;32m/opt/conda/lib/python3.7/site-packages/distributed/client.py\u001b[0m in \u001b[0;36msync\u001b[0;34m(self, func, asynchronous, callback_timeout, *args, **kwargs)\u001b[0m\n\u001b[1;32m    766\u001b[0m         \u001b[0;32melse\u001b[0m\u001b[0;34m:\u001b[0m\u001b[0;34m\u001b[0m\u001b[0;34m\u001b[0m\u001b[0m\n\u001b[1;32m    767\u001b[0m             return sync(\n\u001b[0;32m--> 768\u001b[0;31m                 \u001b[0mself\u001b[0m\u001b[0;34m.\u001b[0m\u001b[0mloop\u001b[0m\u001b[0;34m,\u001b[0m \u001b[0mfunc\u001b[0m\u001b[0;34m,\u001b[0m \u001b[0;34m*\u001b[0m\u001b[0margs\u001b[0m\u001b[0;34m,\u001b[0m \u001b[0mcallback_timeout\u001b[0m\u001b[0;34m=\u001b[0m\u001b[0mcallback_timeout\u001b[0m\u001b[0;34m,\u001b[0m \u001b[0;34m**\u001b[0m\u001b[0mkwargs\u001b[0m\u001b[0;34m\u001b[0m\u001b[0;34m\u001b[0m\u001b[0m\n\u001b[0m\u001b[1;32m    769\u001b[0m             )\n\u001b[1;32m    770\u001b[0m \u001b[0;34m\u001b[0m\u001b[0m\n",
      "\u001b[0;32m/opt/conda/lib/python3.7/site-packages/distributed/utils.py\u001b[0m in \u001b[0;36msync\u001b[0;34m(loop, func, callback_timeout, *args, **kwargs)\u001b[0m\n\u001b[1;32m    332\u001b[0m     \u001b[0;32mif\u001b[0m \u001b[0merror\u001b[0m\u001b[0;34m[\u001b[0m\u001b[0;36m0\u001b[0m\u001b[0;34m]\u001b[0m\u001b[0;34m:\u001b[0m\u001b[0;34m\u001b[0m\u001b[0;34m\u001b[0m\u001b[0m\n\u001b[1;32m    333\u001b[0m         \u001b[0mtyp\u001b[0m\u001b[0;34m,\u001b[0m \u001b[0mexc\u001b[0m\u001b[0;34m,\u001b[0m \u001b[0mtb\u001b[0m \u001b[0;34m=\u001b[0m \u001b[0merror\u001b[0m\u001b[0;34m[\u001b[0m\u001b[0;36m0\u001b[0m\u001b[0;34m]\u001b[0m\u001b[0;34m\u001b[0m\u001b[0;34m\u001b[0m\u001b[0m\n\u001b[0;32m--> 334\u001b[0;31m         \u001b[0;32mraise\u001b[0m \u001b[0mexc\u001b[0m\u001b[0;34m.\u001b[0m\u001b[0mwith_traceback\u001b[0m\u001b[0;34m(\u001b[0m\u001b[0mtb\u001b[0m\u001b[0;34m)\u001b[0m\u001b[0;34m\u001b[0m\u001b[0;34m\u001b[0m\u001b[0m\n\u001b[0m\u001b[1;32m    335\u001b[0m     \u001b[0;32melse\u001b[0m\u001b[0;34m:\u001b[0m\u001b[0;34m\u001b[0m\u001b[0;34m\u001b[0m\u001b[0m\n\u001b[1;32m    336\u001b[0m         \u001b[0;32mreturn\u001b[0m \u001b[0mresult\u001b[0m\u001b[0;34m[\u001b[0m\u001b[0;36m0\u001b[0m\u001b[0;34m]\u001b[0m\u001b[0;34m\u001b[0m\u001b[0;34m\u001b[0m\u001b[0m\n",
      "\u001b[0;32m/opt/conda/lib/python3.7/site-packages/distributed/utils.py\u001b[0m in \u001b[0;36mf\u001b[0;34m()\u001b[0m\n\u001b[1;32m    316\u001b[0m             \u001b[0;32mif\u001b[0m \u001b[0mcallback_timeout\u001b[0m \u001b[0;32mis\u001b[0m \u001b[0;32mnot\u001b[0m \u001b[0;32mNone\u001b[0m\u001b[0;34m:\u001b[0m\u001b[0;34m\u001b[0m\u001b[0;34m\u001b[0m\u001b[0m\n\u001b[1;32m    317\u001b[0m                 \u001b[0mfuture\u001b[0m \u001b[0;34m=\u001b[0m \u001b[0mgen\u001b[0m\u001b[0;34m.\u001b[0m\u001b[0mwith_timeout\u001b[0m\u001b[0;34m(\u001b[0m\u001b[0mtimedelta\u001b[0m\u001b[0;34m(\u001b[0m\u001b[0mseconds\u001b[0m\u001b[0;34m=\u001b[0m\u001b[0mcallback_timeout\u001b[0m\u001b[0;34m)\u001b[0m\u001b[0;34m,\u001b[0m \u001b[0mfuture\u001b[0m\u001b[0;34m)\u001b[0m\u001b[0;34m\u001b[0m\u001b[0;34m\u001b[0m\u001b[0m\n\u001b[0;32m--> 318\u001b[0;31m             \u001b[0mresult\u001b[0m\u001b[0;34m[\u001b[0m\u001b[0;36m0\u001b[0m\u001b[0;34m]\u001b[0m \u001b[0;34m=\u001b[0m \u001b[0;32myield\u001b[0m \u001b[0mfuture\u001b[0m\u001b[0;34m\u001b[0m\u001b[0;34m\u001b[0m\u001b[0m\n\u001b[0m\u001b[1;32m    319\u001b[0m         \u001b[0;32mexcept\u001b[0m \u001b[0mException\u001b[0m \u001b[0;32mas\u001b[0m \u001b[0mexc\u001b[0m\u001b[0;34m:\u001b[0m\u001b[0;34m\u001b[0m\u001b[0;34m\u001b[0m\u001b[0m\n\u001b[1;32m    320\u001b[0m             \u001b[0merror\u001b[0m\u001b[0;34m[\u001b[0m\u001b[0;36m0\u001b[0m\u001b[0;34m]\u001b[0m \u001b[0;34m=\u001b[0m \u001b[0msys\u001b[0m\u001b[0;34m.\u001b[0m\u001b[0mexc_info\u001b[0m\u001b[0;34m(\u001b[0m\u001b[0;34m)\u001b[0m\u001b[0;34m\u001b[0m\u001b[0;34m\u001b[0m\u001b[0m\n",
      "\u001b[0;32m/opt/conda/lib/python3.7/site-packages/tornado/gen.py\u001b[0m in \u001b[0;36mrun\u001b[0;34m(self)\u001b[0m\n\u001b[1;32m    733\u001b[0m \u001b[0;34m\u001b[0m\u001b[0m\n\u001b[1;32m    734\u001b[0m                     \u001b[0;32mtry\u001b[0m\u001b[0;34m:\u001b[0m\u001b[0;34m\u001b[0m\u001b[0;34m\u001b[0m\u001b[0m\n\u001b[0;32m--> 735\u001b[0;31m                         \u001b[0mvalue\u001b[0m \u001b[0;34m=\u001b[0m \u001b[0mfuture\u001b[0m\u001b[0;34m.\u001b[0m\u001b[0mresult\u001b[0m\u001b[0;34m(\u001b[0m\u001b[0;34m)\u001b[0m\u001b[0;34m\u001b[0m\u001b[0;34m\u001b[0m\u001b[0m\n\u001b[0m\u001b[1;32m    736\u001b[0m                     \u001b[0;32mexcept\u001b[0m \u001b[0mException\u001b[0m\u001b[0;34m:\u001b[0m\u001b[0;34m\u001b[0m\u001b[0;34m\u001b[0m\u001b[0m\n\u001b[1;32m    737\u001b[0m                         \u001b[0mexc_info\u001b[0m \u001b[0;34m=\u001b[0m \u001b[0msys\u001b[0m\u001b[0;34m.\u001b[0m\u001b[0mexc_info\u001b[0m\u001b[0;34m(\u001b[0m\u001b[0;34m)\u001b[0m\u001b[0;34m\u001b[0m\u001b[0;34m\u001b[0m\u001b[0m\n",
      "\u001b[0;32m/opt/conda/lib/python3.7/site-packages/distributed/client.py\u001b[0m in \u001b[0;36m_gather\u001b[0;34m(self, futures, errors, direct, local_worker)\u001b[0m\n\u001b[1;32m   1727\u001b[0m                             \u001b[0mexc\u001b[0m \u001b[0;34m=\u001b[0m \u001b[0mCancelledError\u001b[0m\u001b[0;34m(\u001b[0m\u001b[0mkey\u001b[0m\u001b[0;34m)\u001b[0m\u001b[0;34m\u001b[0m\u001b[0;34m\u001b[0m\u001b[0m\n\u001b[1;32m   1728\u001b[0m                         \u001b[0;32melse\u001b[0m\u001b[0;34m:\u001b[0m\u001b[0;34m\u001b[0m\u001b[0;34m\u001b[0m\u001b[0m\n\u001b[0;32m-> 1729\u001b[0;31m                             \u001b[0;32mraise\u001b[0m \u001b[0mexception\u001b[0m\u001b[0;34m.\u001b[0m\u001b[0mwith_traceback\u001b[0m\u001b[0;34m(\u001b[0m\u001b[0mtraceback\u001b[0m\u001b[0;34m)\u001b[0m\u001b[0;34m\u001b[0m\u001b[0;34m\u001b[0m\u001b[0m\n\u001b[0m\u001b[1;32m   1730\u001b[0m                         \u001b[0;32mraise\u001b[0m \u001b[0mexc\u001b[0m\u001b[0;34m\u001b[0m\u001b[0;34m\u001b[0m\u001b[0m\n\u001b[1;32m   1731\u001b[0m                     \u001b[0;32mif\u001b[0m \u001b[0merrors\u001b[0m \u001b[0;34m==\u001b[0m \u001b[0;34m\"skip\"\u001b[0m\u001b[0;34m:\u001b[0m\u001b[0;34m\u001b[0m\u001b[0;34m\u001b[0m\u001b[0m\n",
      "\u001b[0;31mKilledWorker\u001b[0m: ('infill-59b82cc4-8ddc-4c51-ab4c-2339faea3222', <Worker 'tcp://10.36.72.8:34829', memory: 0, processing: 24>)"
     ]
    },
    {
     "name": "stderr",
     "output_type": "stream",
     "text": [
      "distributed.scheduler - INFO - Retire worker names (50, 51, 52, 53, 54, 55)\n",
      "distributed.deploy.adaptive - INFO - Retiring workers [50, 51, 52, 53, 54, 55]\n",
      "distributed.scheduler - INFO - Remove worker tcp://10.36.78.4:46729\n",
      "distributed.core - INFO - Removing comms to tcp://10.36.78.4:46729\n",
      "distributed.scheduler - INFO - Remove worker tcp://10.36.76.6:32915\n",
      "distributed.core - INFO - Removing comms to tcp://10.36.76.6:32915\n",
      "distributed.scheduler - INFO - Remove worker tcp://10.36.74.5:40951\n",
      "distributed.core - INFO - Removing comms to tcp://10.36.74.5:40951\n",
      "distributed.scheduler - INFO - Remove worker tcp://10.36.75.5:33557\n",
      "distributed.core - INFO - Removing comms to tcp://10.36.75.5:33557\n",
      "distributed.scheduler - INFO - Remove worker tcp://10.36.73.5:33121\n",
      "distributed.core - INFO - Removing comms to tcp://10.36.73.5:33121\n",
      "distributed.scheduler - INFO - Lost all workers\n"
     ]
    }
   ],
   "source": [
    "fs = gcsfs.GCSFileSystem(project='neuron-jungle', token=credentials)\n",
    "\n",
    "bytes_total = 0\n",
    "for i in range(6):\n",
    "    for j in range(9):\n",
    "        for k in range(4):\n",
    "            print(i, j, k)\n",
    "            bytes_total += infill(f\"x{i}y{j}z{k}.hdf5\", credentials)\n",
    "            #filename = f\"x{i}y{j}z{k}.hdf5\"\n",
    "            #out_name = f'l4dense/neuron-volume-with-axons-filled/{filename}'\n",
    "            #with fs.open(f'l4dense/neuron-volume-with-axons-unfilled/{filename}', 'rb') as f:\n",
    "            #    cube = h5py.File(f, 'r')\n",
    "            #    neuron_ids = np.array(cube['neuron_ids'])\n",
    "            \n",
    "bytes_total.compute()"
   ]
  },
  {
   "cell_type": "markdown",
   "metadata": {},
   "source": [
    "We're done!"
   ]
  }
 ],
 "metadata": {
  "kernelspec": {
   "display_name": "Python 3",
   "language": "python",
   "name": "python3"
  },
  "language_info": {
   "codemirror_mode": {
    "name": "ipython",
    "version": 3
   },
   "file_extension": ".py",
   "mimetype": "text/x-python",
   "name": "python",
   "nbconvert_exporter": "python",
   "pygments_lexer": "ipython3",
   "version": "3.7.3"
  }
 },
 "nbformat": 4,
 "nbformat_minor": 4
}
