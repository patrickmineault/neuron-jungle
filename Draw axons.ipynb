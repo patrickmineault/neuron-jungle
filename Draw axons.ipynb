{
 "cells": [
  {
   "cell_type": "code",
   "execution_count": 26,
   "metadata": {},
   "outputs": [],
   "source": [
    "%matplotlib inline\n",
    "import collections\n",
    "import dask\n",
    "import gcsfs\n",
    "import h5py\n",
    "import io\n",
    "import matplotlib.pyplot as plt\n",
    "import numpy as np\n",
    "import numba\n",
    "from numba.typed import Dict, List\n",
    "import pickle\n",
    "\n",
    "\n",
    "from dask.distributed import Client\n",
    "from dask_kubernetes import KubeCluster\n",
    "from numba.typed import Dict\n",
    "dendrites = h5py.File('../cache/dendrites.hdf5', 'r')\n",
    "axons = h5py.File('../cache/axons.hdf5', 'r')"
   ]
  },
  {
   "cell_type": "code",
   "execution_count": 42,
   "metadata": {},
   "outputs": [
    {
     "name": "stderr",
     "output_type": "stream",
     "text": [
      "distributed.scheduler - INFO - Clear task state\n",
      "distributed.scheduler - INFO -   Scheduler at:   tcp://10.36.0.171:43207\n",
      "distributed.scheduler - INFO -   dashboard at:                     :8787\n"
     ]
    },
    {
     "data": {
      "application/vnd.jupyter.widget-view+json": {
       "model_id": "1e96d00e75854a9c863cd931a1434a67",
       "version_major": 2,
       "version_minor": 0
      },
      "text/plain": [
       "VBox(children=(HTML(value='<h2>KubeCluster</h2>'), HBox(children=(HTML(value='\\n<div>\\n  <style scoped>\\n    .…"
      ]
     },
     "metadata": {},
     "output_type": "display_data"
    }
   ],
   "source": [
    "cluster = KubeCluster.from_yaml('worker-spec-big.yml')\n",
    "cluster"
   ]
  },
  {
   "cell_type": "code",
   "execution_count": 41,
   "metadata": {},
   "outputs": [
    {
     "name": "stderr",
     "output_type": "stream",
     "text": [
      "distributed.scheduler - INFO - Scheduler closing...\n",
      "distributed.scheduler - INFO - Scheduler closing all comms\n"
     ]
    }
   ],
   "source": [
    "cluster.close()"
   ]
  },
  {
   "cell_type": "code",
   "execution_count": 43,
   "metadata": {},
   "outputs": [
    {
     "name": "stderr",
     "output_type": "stream",
     "text": [
      "distributed.scheduler - INFO - Receive client connection: Client-5a949d3a-4c21-11ea-80a3-fed3d61200dd\n",
      "distributed.core - INFO - Starting established connection\n"
     ]
    }
   ],
   "source": [
    "client = Client(cluster)"
   ]
  },
  {
   "cell_type": "markdown",
   "metadata": {},
   "source": [
    "Draw a thick 3d line. We will use this to draw axons. Use Bresenham's algorithm to draw a thin 3d line, then thicken it using a queue, similar to a flood fill algorithm (https://en.wikipedia.org/wiki/Flood_fill#Alternative_implementations)."
   ]
  },
  {
   "cell_type": "code",
   "execution_count": 2,
   "metadata": {},
   "outputs": [
    {
     "data": {
      "text/plain": [
       "(-17.1, 117.1, -5.5, 5.5)"
      ]
     },
     "execution_count": 2,
     "metadata": {},
     "output_type": "execute_result"
    },
    {
     "data": {
      "image/png": "[encoded data removed]",
      "text/plain": [
       "<Figure size 432x288 with 2 Axes>"
      ]
     },
     "metadata": {
      "needs_background": "light"
     },
     "output_type": "display_data"
    }
   ],
   "source": [
    "# From https://www.geeksforgeeks.org/bresenhams-algorithm-for-3-d-line-drawing/\n",
    "def Bresenham3D(x1, y1, z1, x2, y2, z2): \n",
    "    ListOfPoints = [] \n",
    "    ListOfPoints.append((x1, y1, z1)) \n",
    "    dx = abs(x2 - x1) \n",
    "    dy = abs(y2 - y1) \n",
    "    dz = abs(z2 - z1) \n",
    "    if (x2 > x1): \n",
    "        xs = 1\n",
    "    else: \n",
    "        xs = -1\n",
    "    if (y2 > y1): \n",
    "        ys = 1\n",
    "    else: \n",
    "        ys = -1\n",
    "    if (z2 > z1): \n",
    "        zs = 1\n",
    "    else: \n",
    "        zs = -1\n",
    "  \n",
    "    # Driving axis is X-axis\" \n",
    "    if (dx >= dy and dx >= dz):         \n",
    "        p1 = 2 * dy - dx \n",
    "        p2 = 2 * dz - dx \n",
    "        while (x1 != x2): \n",
    "            x1 += xs \n",
    "            if (p1 >= 0): \n",
    "                y1 += ys \n",
    "                p1 -= 2 * dx \n",
    "            if (p2 >= 0): \n",
    "                z1 += zs \n",
    "                p2 -= 2 * dx \n",
    "            p1 += 2 * dy \n",
    "            p2 += 2 * dz \n",
    "            ListOfPoints.append((x1, y1, z1)) \n",
    "  \n",
    "    # Driving axis is Y-axis\" \n",
    "    elif (dy >= dx and dy >= dz):        \n",
    "        p1 = 2 * dx - dy \n",
    "        p2 = 2 * dz - dy \n",
    "        while (y1 != y2): \n",
    "            y1 += ys \n",
    "            if (p1 >= 0): \n",
    "                x1 += xs \n",
    "                p1 -= 2 * dy \n",
    "            if (p2 >= 0): \n",
    "                z1 += zs \n",
    "                p2 -= 2 * dy \n",
    "            p1 += 2 * dx \n",
    "            p2 += 2 * dz \n",
    "            ListOfPoints.append((x1, y1, z1)) \n",
    "  \n",
    "    # Driving axis is Z-axis\" \n",
    "    else:         \n",
    "        p1 = 2 * dy - dz \n",
    "        p2 = 2 * dx - dz \n",
    "        while (z1 != z2): \n",
    "            z1 += zs \n",
    "            if (p1 >= 0): \n",
    "                y1 += ys \n",
    "                p1 -= 2 * dz \n",
    "            if (p2 >= 0): \n",
    "                x1 += xs \n",
    "                p2 -= 2 * dz \n",
    "            p1 += 2 * dy \n",
    "            p2 += 2 * dx \n",
    "            ListOfPoints.append((x1, y1, z1)) \n",
    "    return ListOfPoints \n",
    "\n",
    "@numba.jit(nopython=True)\n",
    "def expand_line(seeds, line_radius, scales):\n",
    "    queue = list(zip(seeds, [x for x in range(len(seeds))]))\n",
    "    \n",
    "    # This weird number is a type hint for numba.\n",
    "    already_found = {(-1000, -1000, -1000): 1}\n",
    "    for el in seeds:\n",
    "        already_found[el] = 1\n",
    "    \n",
    "    line_radius2 = line_radius ** 2\n",
    "    line_vector = (seeds[-1][0] - seeds[0][0], seeds[-1][1] - seeds[0][1], seeds[-1][2] - seeds[0][2])\n",
    "    \n",
    "    deltas = ((0, 0, 1), (0, 0, -1), (0, 1, 0), (0, -1, 0), (1, 0, 0), (-1, 0, 0))\n",
    "    points = []\n",
    "    for el, closest_seed in queue:\n",
    "        points.append(el)\n",
    "        \n",
    "        # Consider the 6 neighbors of the elements\n",
    "        for d in deltas:\n",
    "            if len(deltas) > 1E6:\n",
    "                print(\"Too many points in this neighborhood.\")\n",
    "                return points\n",
    "            new_el = (el[0] + d[0], el[1] + d[1], el[2] + d[2])\n",
    "            if new_el in already_found:\n",
    "                continue\n",
    "            else:\n",
    "                # Distance to the ends.\n",
    "                if closest_seed == 0:\n",
    "                    rg = [0, 1]\n",
    "                    slc = slice(0, 2)\n",
    "                elif closest_seed == len(seeds) - 1:\n",
    "                    rg = [closest_seed - 1, closest_seed]\n",
    "                    slc = slice(closest_seed - 1, None)\n",
    "                else:\n",
    "                    rg = [closest_seed - 1, closest_seed, closest_seed + 1]\n",
    "                    slc = slice(closest_seed - 1, closest_seed + 2)\n",
    "                    \n",
    "                min_distance, new_closest_seed = min([((scales[0] * (el[0] - x[0])) ** 2 + \n",
    "                                                       (scales[1] * (el[1] - x[1])) ** 2 + \n",
    "                                                       (scales[2] * (el[2] - x[2])) ** 2, num) for num, x in zip(rg, seeds[slc])])\n",
    "                \n",
    "                # Distance to the core\n",
    "                if min_distance > line_radius2:\n",
    "                    continue\n",
    "                \n",
    "                already_found[new_el] = 1\n",
    "                queue.append((new_el, new_closest_seed))\n",
    "    return points\n",
    "\n",
    "def draw_line(from_, to_, line_radius):\n",
    "    \"\"\"Draw a 3d line.\n",
    "    \n",
    "    Args:\n",
    "        from_: a position (length-3 numpy vector)\n",
    "        to_: a position (length-3 numpy vector)\n",
    "        line_radius: the radius of the line (half the thickness)\n",
    "        \n",
    "    Returns:\n",
    "        Numpy array of shape (x, 3) with filled in points. \"\"\"\n",
    "    seeds = Bresenham3D(from_[0], from_[1], from_[2], to_[0], to_[1], to_[2])\n",
    "    scales = (1, 1, 2.49)\n",
    "    return expand_line(seeds, line_radius, scales)\n",
    "\n",
    "def draw_lines(from_, to_, line_radius):\n",
    "    \"\"\"Draw 3d line.\n",
    "    \n",
    "    Args:\n",
    "        from_: positions (N X 3 numpy vector)\n",
    "        to_: positions (N X 3 numpy vector)\n",
    "        line_radius: the radius of the line (half the thickness)\n",
    "        \n",
    "    Returns:\n",
    "        Numpy array of shape (x, 3) with filled in points. \"\"\"\n",
    "    bag_of_seeds = []\n",
    "    current_seeds = []\n",
    "    last_t = (-1000, -1000, -1000)\n",
    "    for f, t in zip(from_, to_):\n",
    "        assert len(f) == 3\n",
    "        assert len(t) == 3\n",
    "        new_seeds = Bresenham3D(f[0], f[1], f[2], t[0], t[1], t[2])\n",
    "        if f == last_t:\n",
    "            current_seeds += new_seeds[2:]\n",
    "        else:\n",
    "            bag_of_seeds.append(current_seeds)\n",
    "            current_seeds = list(new_seeds)\n",
    "            \n",
    "        last_t = t\n",
    "    \n",
    "    bag_of_seeds.append(current_seeds)\n",
    "    bag_of_seeds = bag_of_seeds[1:]\n",
    "    scales = (1, 1, 2.49)\n",
    "    \n",
    "    all_pixels = set()\n",
    "    the_lines = []\n",
    "    for seeds in bag_of_seeds:\n",
    "        seeds_typed = List()\n",
    "        [seeds_typed.append(x) for x in seeds]\n",
    "    \n",
    "        pixels = expand_line(seeds_typed, line_radius, scales)\n",
    "        all_pixels = all_pixels.union(set(pixels))\n",
    "    return all_pixels\n",
    "\n",
    "lines = np.array(list(draw_lines([(0, 100, 0), (100, 0, 0), (0, 50, 0)], [(100, 0, 0), (100, 100, 0), (50, 0, 0)], 10)))\n",
    "plt.subplot(121)\n",
    "_ = plt.plot(lines[:, 0], lines[:, 1], '.')\n",
    "plt.axis('equal')\n",
    "plt.subplot(122)\n",
    "_ = plt.plot(lines[:, 0], lines[:, 2], '.')\n",
    "plt.axis('equal')"
   ]
  },
  {
   "cell_type": "code",
   "execution_count": 24,
   "metadata": {},
   "outputs": [],
   "source": [
    "with open('axon_to_neuron.pkl', 'rb') as f:\n",
    "    axon_info = pickle.load(f)\n",
    "    \n",
    "axon_info.keys()\n",
    "axons_segments, axon_map, axon_aggs = axon_info['axon_segments'], axon_info['axon_map'], axon_info['axon_aggs']"
   ]
  },
  {
   "cell_type": "code",
   "execution_count": 30,
   "metadata": {},
   "outputs": [
    {
     "data": {
      "text/plain": [
       "(4101.05, 5639.95, 7596.7, 7757.3)"
      ]
     },
     "execution_count": 30,
     "metadata": {},
     "output_type": "execute_result"
    },
    {
     "data": {
      "image/png": "[encoded data removed]",
      "text/plain": [
       "<Figure size 1296x576 with 3 Axes>"
      ]
     },
     "metadata": {
      "needs_background": "light"
     },
     "output_type": "display_data"
    }
   ],
   "source": [
    "id = 91\n",
    "axon_agg = axon_aggs[id][0]\n",
    "just_segments = axons['axons']['agglomerate'][axon_agg]\n",
    "just_segments\n",
    "\n",
    "edges = np.array(axons['axons']['skeleton'][axon_agg]['edges']) - 1\n",
    "nodes = np.array(axons['axons']['skeleton'][axon_agg]['nodes'])\n",
    "segIds = np.array(axons['axons']['skeleton'][axon_agg]['segIds'])\n",
    "\n",
    "L = np.concatenate((nodes[:, edges[0, :]], nodes[:, edges[1, :]]), axis=0)\n",
    "S = np.concatenate((segIds[edges[0, :]].reshape((1, -1)), segIds[edges[1, :]].reshape((1, -1))), axis=0)\n",
    "badS = np.all(S == 0, axis=0)\n",
    "\n",
    "plt.figure(figsize=(18, 8))\n",
    "plt.subplot(131)\n",
    "_ = plt.plot(L[[0, 3], :][:, ~badS], L[[2, 5], :][:, ~badS] * 2.49, 'k-')\n",
    "_ = plt.plot(L[[0, 3], :][:, badS], L[[2, 5], :][:, badS] * 2.49, 'r-')\n",
    "plt.axis('equal')\n",
    "\n",
    "plt.subplot(132)\n",
    "_ = plt.plot(L[[1, 4], :][:, ~badS], L[[2, 5], :][:, ~badS] * 2.49, 'k-')\n",
    "_ = plt.plot(L[[1, 4], :][:, badS], L[[2, 5], :][:, badS] * 2.49, 'r-')\n",
    "plt.axis('equal')\n",
    "\n",
    "plt.subplot(133)\n",
    "_ = plt.plot(L[[0, 3], :][:, ~badS], L[[1, 4], :][:, ~badS], 'k-')\n",
    "_ = plt.plot(L[[0, 3], :][:, badS], L[[1, 4], :][:, badS], 'r-')\n",
    "plt.axis('equal')"
   ]
  },
  {
   "cell_type": "markdown",
   "metadata": {},
   "source": [
    "Adding the information in the skeleton (red) is much better than just the information in the agglomerates (black) for axons. This is because much of the axons in this dataset were manually traced. Therefore, rebuild axons in the dataset using line drawing."
   ]
  },
  {
   "cell_type": "code",
   "execution_count": 7,
   "metadata": {},
   "outputs": [],
   "source": [
    "with open('../.gcs_tokens', 'rb') as f:\n",
    "    credentials = pickle.load(f)\n",
    "credentials = credentials[list(credentials.keys())[0]]\n",
    "fs = gcsfs.GCSFileSystem(project='neuron-jungle', token=credentials)"
   ]
  },
  {
   "cell_type": "code",
   "execution_count": 58,
   "metadata": {},
   "outputs": [
    {
     "name": "stdout",
     "output_type": "stream",
     "text": [
      "Tracing axon of neuron 74\n"
     ]
    },
    {
     "data": {
      "text/plain": [
       "1"
      ]
     },
     "execution_count": 58,
     "metadata": {},
     "output_type": "execute_result"
    }
   ],
   "source": [
    "def draw_one_axon(id, axon_aggs):\n",
    "    batch_size = 125\n",
    "    print(\"Tracing axon of neuron %d\" % id)\n",
    "    from_lines = []\n",
    "    to_lines = []\n",
    "    \n",
    "    fs = gcsfs.GCSFileSystem(project='neuron-jungle', token=credentials)\n",
    "    fd = fs.open('l4dense/dendrites.hdf5', 'rb')\n",
    "    dendrites = h5py.File(fd, 'r')\n",
    "\n",
    "    fa = fs.open('l4dense/axons.hdf5', 'rb')\n",
    "    axons = h5py.File(fa, 'r')\n",
    "\n",
    "    for axon_agg in axon_aggs:\n",
    "        edges = np.array(axons['axons']['skeleton'][axon_agg]['edges']) - 1\n",
    "        nodes = np.array(axons['axons']['skeleton'][axon_agg]['nodes'])\n",
    "\n",
    "        segIds = np.array(axons['axons']['skeleton'][axon_agg]['segIds'])\n",
    "        S = np.concatenate((segIds[edges[0, :]].reshape((1, -1)), segIds[edges[1, :]].reshape((1, -1))), axis=0)\n",
    "        badS = np.any(S == 0, axis=0)\n",
    "\n",
    "        from_ = nodes[:, edges[0, badS]].T.astype(int)\n",
    "        to_ = nodes[:, edges[1, badS]].T.astype(int)\n",
    "        from_lines += [tuple(x) for x in from_]\n",
    "        to_lines += [tuple(x) for x in to_]\n",
    "        \n",
    "    fd.close()\n",
    "    fa.close()\n",
    "\n",
    "    nbatches = int(np.ceil(len(from_lines) / batch_size))\n",
    "    for k in range(nbatches):\n",
    "        rg = slice(k * batch_size, (k + 1) * batch_size)\n",
    "        pixels = list(draw_lines(from_lines[rg], to_lines[rg], 32))\n",
    "\n",
    "        out_name = 'l4dense/axon-pixels/n%02d_batch%02d_%02d.pkl' % (id, k, nbatches)\n",
    "        bio = io.BytesIO()\n",
    "        pickle.dump(pixels, bio)\n",
    "        data = bio.getvalue()\n",
    "        with fs.open(out_name, 'wb') as f:\n",
    "            f.write(data)\n",
    "    return 1\n",
    "\n",
    "#for id in axon_aggs.keys():\n",
    "#\n",
    "#n_neurons = 0\n",
    "#for id in missing_ids:\n",
    "#    if axon_aggs[id]:\n",
    "#        n_neurons += draw_one_axon(id, axon_aggs[id])\n",
    "#        \n",
    "#n_neurons.compute()\n",
    "draw_one_axon(74, axon_aggs[74])"
   ]
  },
  {
   "cell_type": "code",
   "execution_count": 57,
   "metadata": {},
   "outputs": [
    {
     "data": {
      "text/plain": [
       "['30048']"
      ]
     },
     "execution_count": 57,
     "metadata": {},
     "output_type": "execute_result"
    }
   ],
   "source": [
    "axon_aggs[74]"
   ]
  },
  {
   "cell_type": "code",
   "execution_count": 48,
   "metadata": {},
   "outputs": [
    {
     "name": "stdout",
     "output_type": "stream",
     "text": [
      "1 True\n",
      "3 True\n",
      "4 True\n",
      "7 False\n",
      "8 True\n",
      "10 True\n",
      "13 True\n",
      "14 True\n",
      "19 True\n",
      "20 True\n",
      "21 False\n",
      "22 True\n",
      "25 True\n",
      "27 True\n",
      "29 True\n",
      "30 True\n",
      "31 True\n",
      "32 True\n",
      "38 True\n",
      "39 True\n",
      "40 True\n",
      "42 True\n",
      "43 True\n",
      "49 True\n",
      "51 False\n",
      "52 True\n",
      "53 True\n",
      "54 True\n",
      "55 True\n",
      "60 True\n",
      "63 True\n",
      "64 True\n",
      "66 True\n",
      "68 True\n",
      "71 True\n",
      "74 False\n",
      "75 False\n",
      "77 True\n",
      "79 True\n",
      "80 True\n",
      "82 True\n",
      "83 True\n",
      "86 True\n",
      "88 False\n",
      "89 True\n",
      "91 False\n"
     ]
    }
   ],
   "source": [
    "fs = gcsfs.GCSFileSystem(project='neuron-jungle', token=credentials)\n",
    "missing_ids = []\n",
    "for id in axon_aggs:\n",
    "    if axon_aggs[id]:\n",
    "        found = False\n",
    "        for i in range(32):\n",
    "            file = fs.ls('l4dense/axon-pixels/n%02d_batch%02d_%02d.pkl' % (id, i, i+1))\n",
    "            if len(file) == 1:\n",
    "                found = True\n",
    "                break\n",
    "        print(id, found)\n",
    "        if not found:\n",
    "            missing_ids.append(id)"
   ]
  },
  {
   "cell_type": "code",
   "execution_count": 22,
   "metadata": {},
   "outputs": [
    {
     "data": {
      "text/plain": [
       "[1,\n",
       " True,\n",
       " 3,\n",
       " True,\n",
       " 4,\n",
       " True,\n",
       " 7,\n",
       " 0,\n",
       " 8,\n",
       " True,\n",
       " 10,\n",
       " True,\n",
       " 13,\n",
       " True,\n",
       " 14,\n",
       " True,\n",
       " 19,\n",
       " True,\n",
       " 20,\n",
       " True,\n",
       " 21,\n",
       " True,\n",
       " 22,\n",
       " True,\n",
       " 25,\n",
       " True,\n",
       " 27,\n",
       " True,\n",
       " 29,\n",
       " True,\n",
       " 30,\n",
       " True,\n",
       " 31,\n",
       " True,\n",
       " 32,\n",
       " True,\n",
       " 38,\n",
       " True,\n",
       " 39,\n",
       " True,\n",
       " 40,\n",
       " True,\n",
       " 42,\n",
       " True,\n",
       " 43,\n",
       " True,\n",
       " 49,\n",
       " True,\n",
       " 51,\n",
       " False,\n",
       " 52,\n",
       " True,\n",
       " 53,\n",
       " True,\n",
       " 54,\n",
       " True,\n",
       " 55,\n",
       " True,\n",
       " 60,\n",
       " True,\n",
       " 63,\n",
       " True,\n",
       " 64,\n",
       " True,\n",
       " 66,\n",
       " True,\n",
       " 68,\n",
       " True,\n",
       " 71,\n",
       " True,\n",
       " 74,\n",
       " 0,\n",
       " 75,\n",
       " 0,\n",
       " 77,\n",
       " True,\n",
       " 79,\n",
       " True,\n",
       " 80,\n",
       " True,\n",
       " 82,\n",
       " True,\n",
       " 83,\n",
       " True,\n",
       " 86,\n",
       " False,\n",
       " 88,\n",
       " False,\n",
       " 89,\n",
       " True,\n",
       " 91,\n",
       " 0]"
      ]
     },
     "execution_count": 22,
     "metadata": {},
     "output_type": "execute_result"
    }
   ],
   "source": [
    "import logging\n",
    "\n",
    "def check_complete(id, credentials):\n",
    "    logger = logging.getLogger(__name__)\n",
    "    logger.info('Working on %d' % id)\n",
    "    fs = gcsfs.GCSFileSystem(project='neuron-jungle', token=credentials)\n",
    "    found = False\n",
    "    for i in range(64):\n",
    "        file = fs.ls('l4dense/axon-pixels/n%02d_batch%02d_%02d.pkl' % (id, i, i+1))\n",
    "        if len(file) == 1:\n",
    "            found = True\n",
    "            break\n",
    "            \n",
    "    if not found:\n",
    "        return 0\n",
    "    \n",
    "    nbatches = i + 1\n",
    "        \n",
    "    for batch in range(nbatches):\n",
    "        # Check if we've done this before.\n",
    "        final_name = 'l4dense/axon-volume-separate/n%02d_batch%02d.final' % (id, batch)\n",
    "        if not fs.exists(final_name):\n",
    "            return False\n",
    "        \n",
    "    return True\n",
    "\n",
    "completion = []\n",
    "for id in axon_aggs.keys():\n",
    "    completion.append((id, check_complete(id, credentials)))\n",
    "completion"
   ]
  },
  {
   "cell_type": "code",
   "execution_count": null,
   "metadata": {},
   "outputs": [],
   "source": [
    "import logging\n",
    "\n",
    "@dask.delayed\n",
    "def chop_and_distribute(id, credentials):\n",
    "    logger = logging.getLogger(__name__)\n",
    "    logger.info('Working on %d' % id)\n",
    "    fs = gcsfs.GCSFileSystem(project='neuron-jungle', token=credentials)\n",
    "    found = False\n",
    "    for i in range(64):\n",
    "        file = fs.ls('l4dense/axon-pixels/n%02d_batch%02d_%02d.pkl' % (id, i, i+1))\n",
    "        if len(file) == 1:\n",
    "            found = True\n",
    "            break\n",
    "            \n",
    "    if not found:\n",
    "        return 0\n",
    "    \n",
    "    nbatches = i + 1\n",
    "        \n",
    "    for batch in range(nbatches):\n",
    "        # Check if we've done this before.\n",
    "        final_name = 'l4dense/axon-volume-separate/n%02d_batch%02d.final' % (id, batch)\n",
    "        if fs.exists(final_name):\n",
    "            continue\n",
    "            \n",
    "        xyz = collections.defaultdict(lambda: [])\n",
    "        file = fs.open('l4dense/axon-pixels/n%02d_batch%02d_%02d.pkl' % (id, batch, nbatches), 'rb')\n",
    "        the_dat = pickle.load(file)\n",
    "        logger.info('%d pixels to dump' % len(the_dat))\n",
    "        \n",
    "        for pixel in the_dat:\n",
    "            xx, yy, zz = pixel[0] // 1024, pixel[1] // 1024, pixel[2] // 1024\n",
    "            if xx < 0 or xx > 5 or yy < 0 or yy > 8 or zz < 0 or zz > 3:\n",
    "                continue\n",
    "            xyz[(xx, yy, zz)].append((pixel[0] - xx * 1024, pixel[1] - yy * 1024, pixel[2] - zz * 1024, id))\n",
    "            \n",
    "        # Time to write to disk.\n",
    "        for key, val in xyz.items():\n",
    "            out_name = 'l4dense/axon-volume-separate/x%dy%dz%d_n%02d_batch%02d.pkl' % (key[0], key[1], key[2], id, batch)\n",
    "            bio = io.BytesIO()\n",
    "            pickle.dump(val, bio)\n",
    "            data = bio.getvalue()\n",
    "            with fs.open(out_name, 'wb') as f:\n",
    "                f.write(data)\n",
    "        \n",
    "        with fs.open(final_name, 'w') as f:\n",
    "            f.write(\"final\")\n",
    "        \n",
    "    return 1\n",
    "\n",
    "n_neurons = 0\n",
    "for id in axon_aggs.keys():\n",
    "    n_neurons += chop_and_distribute(id, credentials)\n",
    "n_neurons.compute()"
   ]
  }
 ],
 "metadata": {
  "kernelspec": {
   "display_name": "Python 3",
   "language": "python",
   "name": "python3"
  },
  "language_info": {
   "codemirror_mode": {
    "name": "ipython",
    "version": 3
   },
   "file_extension": ".py",
   "mimetype": "text/x-python",
   "name": "python",
   "nbconvert_exporter": "python",
   "pygments_lexer": "ipython3",
   "version": "3.7.3"
  }
 },
 "nbformat": 4,
 "nbformat_minor": 4
}
